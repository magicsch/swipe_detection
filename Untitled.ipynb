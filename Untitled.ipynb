{
 "cells": [
  {
   "cell_type": "code",
   "execution_count": 30,
   "id": "28f636e3",
   "metadata": {},
   "outputs": [],
   "source": [
    "import tensorflow as tf\n",
    "import numpy as np\n",
    "from tensorflow.keras.layers import LSTM, RepeatVector, TimeDistributed, Dense\n",
    "from tensorflow.keras.models import Sequential\n",
    "from tensorflow.keras.utils import plot_model"
   ]
  },
  {
   "cell_type": "code",
   "execution_count": 16,
   "id": "1a2cec63",
   "metadata": {},
   "outputs": [
    {
     "data": {
      "text/plain": [
       "[PhysicalDevice(name='/physical_device:GPU:0', device_type='GPU')]"
      ]
     },
     "execution_count": 16,
     "metadata": {},
     "output_type": "execute_result"
    }
   ],
   "source": [
    "tf.config.list_physical_devices('GPU')"
   ]
  },
  {
   "cell_type": "code",
   "execution_count": null,
   "id": "f44dc3eb",
   "metadata": {},
   "outputs": [],
   "source": []
  },
  {
   "cell_type": "code",
   "execution_count": 17,
   "id": "30501610",
   "metadata": {},
   "outputs": [],
   "source": [
    "sequence = np.array([0.1, 0.2, 0.3, 0.4, 0.5, 0.6, 0.7, 0.8, 0.9])\n",
    "# reshape input into [samples, timesteps, features]\n",
    "n_in = len(sequence)\n",
    "sequence = sequence.reshape((1, n_in, 1))"
   ]
  },
  {
   "cell_type": "code",
   "execution_count": 23,
   "id": "734ea8b1",
   "metadata": {},
   "outputs": [
    {
     "name": "stdout",
     "output_type": "stream",
     "text": [
      "WARNING:tensorflow:Layer lstm_8 will not use cuDNN kernels since it doesn't meet the criteria. It will use a generic GPU kernel as fallback when running on GPU.\n",
      "WARNING:tensorflow:Layer lstm_9 will not use cuDNN kernels since it doesn't meet the criteria. It will use a generic GPU kernel as fallback when running on GPU.\n"
     ]
    }
   ],
   "source": [
    "# define model\n",
    "model = Sequential()\n",
    "model.add(LSTM(100, activation='relu', input_shape=(n_in,1)))\n",
    "model.add(RepeatVector(n_in))\n",
    "model.add(LSTM(100, activation='relu', return_sequences=True))\n",
    "model.add(TimeDistributed(Dense(1)))\n",
    "model.compile(optimizer='adam', loss='mse')"
   ]
  },
  {
   "cell_type": "code",
   "execution_count": 41,
   "id": "66247dfd",
   "metadata": {},
   "outputs": [],
   "source": [
    "# fit model\n",
    "H = model.fit(sequence, sequence, epochs=300, verbose=0)"
   ]
  },
  {
   "cell_type": "code",
   "execution_count": 39,
   "id": "b89f9d4a",
   "metadata": {
    "scrolled": true
   },
   "outputs": [
    {
     "name": "stdout",
     "output_type": "stream",
     "text": [
      "Model: \"sequential_6\"\n",
      "_________________________________________________________________\n",
      " Layer (type)                Output Shape              Param #   \n",
      "=================================================================\n",
      " lstm_8 (LSTM)               (None, 100)               40800     \n",
      "                                                                 \n",
      " repeat_vector_4 (RepeatVect  (None, 9, 100)           0         \n",
      " or)                                                             \n",
      "                                                                 \n",
      " lstm_9 (LSTM)               (None, 9, 100)            80400     \n",
      "                                                                 \n",
      " time_distributed_3 (TimeDis  (None, 9, 1)             101       \n",
      " tributed)                                                       \n",
      "                                                                 \n",
      "=================================================================\n",
      "Total params: 121,301\n",
      "Trainable params: 121,301\n",
      "Non-trainable params: 0\n",
      "_________________________________________________________________\n"
     ]
    }
   ],
   "source": [
    "model.summary()\n"
   ]
  },
  {
   "cell_type": "code",
   "execution_count": 38,
   "id": "7eef74af",
   "metadata": {},
   "outputs": [
    {
     "name": "stdout",
     "output_type": "stream",
     "text": [
      "[0.1005002  0.1995367  0.29982474 0.40015996 0.5002344  0.6000449\n",
      " 0.69989794 0.7997488  0.90018326]\n"
     ]
    }
   ],
   "source": [
    "# demonstrate recreation\n",
    "yhat = model.predict(sequence, verbose=0)\n",
    "print(yhat[0,:,0])"
   ]
  },
  {
   "cell_type": "code",
   "execution_count": 47,
   "id": "6e1e99da",
   "metadata": {},
   "outputs": [
    {
     "ename": "ModuleNotFoundError",
     "evalue": "No module named 'pycoral'",
     "output_type": "error",
     "traceback": [
      "\u001b[1;31m---------------------------------------------------------------------------\u001b[0m",
      "\u001b[1;31mModuleNotFoundError\u001b[0m                       Traceback (most recent call last)",
      "Input \u001b[1;32mIn [47]\u001b[0m, in \u001b[0;36m<cell line: 1>\u001b[1;34m()\u001b[0m\n\u001b[1;32m----> 1\u001b[0m \u001b[38;5;28;01mfrom\u001b[39;00m \u001b[38;5;21;01mmovenet\u001b[39;00m \u001b[38;5;28;01mimport\u001b[39;00m Movenet\n",
      "File \u001b[1;32m~\\upwork\\swipe_detection\\movenet.py:6\u001b[0m, in \u001b[0;36m<module>\u001b[1;34m\u001b[0m\n\u001b[0;32m      4\u001b[0m \u001b[38;5;28;01mfrom\u001b[39;00m \u001b[38;5;21;01mPIL\u001b[39;00m \u001b[38;5;28;01mimport\u001b[39;00m Image\n\u001b[0;32m      5\u001b[0m \u001b[38;5;28;01mfrom\u001b[39;00m \u001b[38;5;21;01mPIL\u001b[39;00m \u001b[38;5;28;01mimport\u001b[39;00m ImageDraw\n\u001b[1;32m----> 6\u001b[0m \u001b[38;5;28;01mfrom\u001b[39;00m \u001b[38;5;21;01mpycoral\u001b[39;00m\u001b[38;5;21;01m.\u001b[39;00m\u001b[38;5;21;01madapters\u001b[39;00m \u001b[38;5;28;01mimport\u001b[39;00m common\n\u001b[0;32m      7\u001b[0m \u001b[38;5;28;01mfrom\u001b[39;00m \u001b[38;5;21;01mpycoral\u001b[39;00m\u001b[38;5;21;01m.\u001b[39;00m\u001b[38;5;21;01mutils\u001b[39;00m\u001b[38;5;21;01m.\u001b[39;00m\u001b[38;5;21;01medgetpu\u001b[39;00m \u001b[38;5;28;01mimport\u001b[39;00m make_interpreter\n\u001b[0;32m      8\u001b[0m \u001b[38;5;28;01mimport\u001b[39;00m \u001b[38;5;21;01msys\u001b[39;00m\n",
      "\u001b[1;31mModuleNotFoundError\u001b[0m: No module named 'pycoral'"
     ]
    }
   ],
   "source": []
  },
  {
   "cell_type": "code",
   "execution_count": 54,
   "id": "33fd3ed8",
   "metadata": {},
   "outputs": [],
   "source": [
    "import tensorflow as tf\n",
    "import numpy as np\n",
    "import cv2\n",
    "from PIL import Image\n",
    "\n",
    "\n",
    "class Movenet:\n",
    "    def __init__(self) -> None:\n",
    "        self._model = self._load_model()\n",
    "        self._img_size = 192\n",
    "        self._keypoint_thresh = .4\n",
    "\n",
    "    def _load_model(self) -> tf.lite.Interpreter:\n",
    "        # Initialize the TFLite interpreter\n",
    "        return tf.lite.Interpreter(\n",
    "            model_path=\"model/lite-model_movenet_singlepose_lightning_tflite_float16_4.tflite\")\n",
    "\n",
    "    def infer(self, image) -> np.array:\n",
    "        \"\"\" Returns array of keypoints [y, x, score] \"\"\"\n",
    "        image = tf.expand_dims(image, axis=0)\n",
    "        image = tf.image.resize_with_pad(image, self._img_size, self._img_size)\n",
    "        self._model.allocate_tensors()\n",
    "        input_image = tf.cast(image, dtype=tf.uint8)\n",
    "        input_details = self._model.get_input_details()\n",
    "        output_details = self._model.get_output_details()\n",
    "        self._model.set_tensor(input_details[0]['index'], input_image.numpy())\n",
    "        self._model.invoke()\n",
    "        # Output of model is a [1, 1, 17, 3] numpy array.\n",
    "        keypoints_with_scores = self._model.get_tensor(\n",
    "            output_details[0]['index'])\n",
    "        return keypoints_with_scores[0, 0, :, :]\n",
    "\n",
    "    @staticmethod\n",
    "    def draw_keypoints(image, keypoints_with_scores, threshold):\n",
    "        \"\"\" Draws keypoints on image using threshold value \"\"\"\n",
    "        for kp in keypoints_with_scores:\n",
    "            if kp[-1] >= threshold:\n",
    "                image = cv2.circle(\n",
    "                    image, (int(kp[1] * image.shape[1]), int(kp[0] * image.shape[0])), 3, (0, 0, 255), 3)\n",
    "        return image\n",
    "\n"
   ]
  },
  {
   "cell_type": "code",
   "execution_count": 72,
   "id": "d0b01263",
   "metadata": {},
   "outputs": [],
   "source": [
    "img = cv2.imread(\"body.PNG\")\n",
    "img = cv2.resize(img, (456,456))"
   ]
  },
  {
   "cell_type": "code",
   "execution_count": 73,
   "id": "340d3828",
   "metadata": {},
   "outputs": [],
   "source": [
    "net = Movenet()"
   ]
  },
  {
   "cell_type": "code",
   "execution_count": 74,
   "id": "97f5db0d",
   "metadata": {},
   "outputs": [],
   "source": [
    "img = net.draw_keypoints(img,net.infer(img),.3)\n",
    "img = Image.fromarray(img)"
   ]
  },
  {
   "cell_type": "code",
   "execution_count": 75,
   "id": "2511bd71",
   "metadata": {},
   "outputs": [
    {
     "data": {
      "image/png": "[encoded data removed]",
      "text/plain": [
       "<PIL.Image.Image image mode=RGB size=456x456>"
      ]
     },
     "execution_count": 75,
     "metadata": {},
     "output_type": "execute_result"
    }
   ],
   "source": [
    "img"
   ]
  },
  {
   "cell_type": "code",
   "execution_count": 78,
   "id": "ef9ddcb3",
   "metadata": {},
   "outputs": [],
   "source": [
    "import numpy as np\n",
    "import tensorflow as tf\n",
    "\n",
    "# Create the interpreter and get the signature runner.\n",
    "interpreter = tf.lite.Interpreter(\n",
    "    model_path='model/lite-model_movinet_a2_stream_kinetics-600_classification_tflite_float16_2.tflite')\n",
    "\n",
    "runner = interpreter.get_signature_runner()\n",
    "input_details = runner.get_input_details()\n",
    "\n",
    "def quantized_scale(name, state):\n",
    "  \"\"\"Scales the named state tensor input for the quantized model.\"\"\"\n",
    "  dtype = input_details[name]['dtype']\n",
    "  scale, zero_point = input_details[name]['quantization']\n",
    "  if 'frame_count' in name or dtype == np.float32 or scale == 0.0:\n",
    "    return state\n",
    "  return np.cast((state / scale + zero_point), dtype)\n",
    "\n",
    "# Create the initial states, scale quantized.\n",
    "init_states = {\n",
    "    name: quantized_scale(name, np.zeros(x['shape'], dtype=x['dtype']))\n",
    "    for name, x in input_details.items()\n",
    "    if name != 'image'\n",
    "}\n",
    "\n",
    "# Insert your video clip or video frame here.\n",
    "# Input to the model be of shape [1, 1, 224, 224, 3].\n",
    "video = np.ones([1, 50, 224, 224, 3], dtype=np.float32)\n",
    "frames = np.split(video, video.shape[1], axis=1)\n",
    "\n",
    "# To run on a video, pass in one frame at a time.\n",
    "states = init_states\n",
    "for frame in frames:\n",
    "  # Normally the input frame is normalized to [0, 1] with dtype float32, but\n",
    "  # here we apply quantized scaling to fit values into the quantized dtype.\n",
    "  frame = quantized_scale('image', frame)\n",
    "  # Input shape: [1, 1, 224, 224, 3]\n",
    "  outputs = runner(**states, image=frame)\n",
    "  # `logits` will output predictions on each frame.\n",
    "  logits = outputs.pop('logits')\n",
    "  states = outputs\n",
    "    "
   ]
  },
  {
   "cell_type": "code",
   "execution_count": null,
   "id": "f3fe43df",
   "metadata": {},
   "outputs": [],
   "source": []
  },
  {
   "cell_type": "code",
   "execution_count": 84,
   "id": "46d48512",
   "metadata": {},
   "outputs": [
    {
     "data": {
      "text/plain": [
       "387"
      ]
     },
     "execution_count": 84,
     "metadata": {},
     "output_type": "execute_result"
    }
   ],
   "source": [
    "np.argmax(logits)"
   ]
  },
  {
   "cell_type": "code",
   "execution_count": null,
   "id": "249d393e",
   "metadata": {},
   "outputs": [],
   "source": []
  }
 ],
 "metadata": {
  "kernelspec": {
   "display_name": "Python 3 (ipykernel)",
   "language": "python",
   "name": "python3"
  },
  "language_info": {
   "codemirror_mode": {
    "name": "ipython",
    "version": 3
   },
   "file_extension": ".py",
   "mimetype": "text/x-python",
   "name": "python",
   "nbconvert_exporter": "python",
   "pygments_lexer": "ipython3",
   "version": "3.10.4"
  }
 },
 "nbformat": 4,
 "nbformat_minor": 5
}
