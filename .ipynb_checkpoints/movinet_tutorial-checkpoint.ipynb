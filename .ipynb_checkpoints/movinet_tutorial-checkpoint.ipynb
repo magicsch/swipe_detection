{
 "cells": [
  {
   "cell_type": "markdown",
   "metadata": {
    "id": "3E96e1UKQ8uR"
   },
   "source": [
    "# MoViNet Tutorial\n",
    "\n",
    "This notebook provides basic example code to build, run, and fine-tune [MoViNets (Mobile Video Networks)](https://arxiv.org/pdf/2103.11511.pdf).\n",
    "\n",
    "Pretrained models are provided by [TensorFlow Hub](https://tfhub.dev/google/collections/movinet/) and the [TensorFlow Model Garden](https://github.com/tensorflow/models/tree/master/official/projects/movinet), trained on [Kinetics 600](https://deepmind.com/research/open-source/kinetics) for video action classification. All Models use TensorFlow 2 with Keras for inference and training.\n",
    "\n",
    "The following steps will be performed:\n",
    "\n",
    "1. [Running base model inference with TensorFlow Hub](#scrollTo=6g0tuFvf71S9&line=8&uniqifier=1)\n",
    "2. [Running streaming model inference with TensorFlow Hub and plotting predictions](#scrollTo=ADrHPmwGcBZ5&line=4&uniqifier=1)\n",
    "3. [Exporting a streaming model to TensorFlow Lite for mobile](#scrollTo=W3CLHvubvdSI&line=3&uniqifier=1)\n",
    "4. [Fine-Tuning a base Model with the TensorFlow Model Garden](#scrollTo=_s-7bEoa3f8g&line=11&uniqifier=1)\n",
    "\n",
    "![jumping jacks plot](https://storage.googleapis.com/tf_model_garden/vision/movinet/artifacts/jumpingjacks_plot.gif)\n",
    "\n",
    "To generate video plots like the one above, see [section 2](#scrollTo=ADrHPmwGcBZ5&line=4&uniqifier=1)."
   ]
  },
  {
   "cell_type": "markdown",
   "metadata": {
    "id": "8_oLnvJy7kz5"
   },
   "source": [
    "## Setup\n",
    "\n",
    "For inference on smaller models (A0-A2), CPU is sufficient for this Colab. For fine-tuning, it is recommended to run the models using GPUs.\n",
    "\n",
    "To select a GPU in Colab, select `Runtime > Change runtime type > Hardware accelerator > GPU` dropdown in the top menu."
   ]
  },
  {
   "cell_type": "code",
   "execution_count": 3,
   "metadata": {
    "colab": {
     "base_uri": "https://localhost:8080/"
    },
    "id": "s3khsunT7kWa",
    "outputId": "c1606311-4c0b-4114-a783-2b5fe66a12d5",
    "scrolled": true
   },
   "outputs": [
    {
     "name": "stderr",
     "output_type": "stream",
     "text": [
      "  ERROR: Command errored out with exit status 1:\n",
      "   command: 'C:\\Users\\Armando\\anaconda3\\envs\\tf_gpu\\python.exe' 'C:\\Users\\Armando\\anaconda3\\envs\\tf_gpu\\lib\\site-packages\\pip\\_vendor\\pep517\\in_process\\_in_process.py' build_wheel 'C:\\Users\\Armando\\AppData\\Local\\Temp\\tmpkx9zcqi1'\n",
      "       cwd: C:\\Users\\Armando\\AppData\\Local\\Temp\\pip-install-ia5mfyl1\\pycocotools_3e23dd7201a5440f9203ebc3b2d3efe2\n",
      "  Complete output (21 lines):\n",
      "  running bdist_wheel\n",
      "  running build\n",
      "  running build_py\n",
      "  creating build\n",
      "  creating build\\lib.win-amd64-cpython-310\n",
      "  creating build\\lib.win-amd64-cpython-310\\pycocotools\n",
      "  copying pycocotools\\coco.py -> build\\lib.win-amd64-cpython-310\\pycocotools\n",
      "  copying pycocotools\\cocoeval.py -> build\\lib.win-amd64-cpython-310\\pycocotools\n",
      "  copying pycocotools\\mask.py -> build\\lib.win-amd64-cpython-310\\pycocotools\n",
      "  copying pycocotools\\__init__.py -> build\\lib.win-amd64-cpython-310\\pycocotools\n",
      "  running build_ext\n",
      "  skipping 'pycocotools\\_mask.c' Cython extension (up-to-date)\n",
      "  building 'pycocotools._mask' extension\n",
      "  creating build\\temp.win-amd64-cpython-310\n",
      "  creating build\\temp.win-amd64-cpython-310\\Release\n",
      "  creating build\\temp.win-amd64-cpython-310\\Release\\common\n",
      "  creating build\\temp.win-amd64-cpython-310\\Release\\pycocotools\n",
      "  \"C:\\Program Files (x86)\\Microsoft Visual Studio\\2019\\Community\\VC\\Tools\\MSVC\\14.29.30133\\bin\\HostX86\\x64\\cl.exe\" /c /nologo /O2 /W3 /GL /DNDEBUG /MD -IC:\\Users\\Armando\\AppData\\Local\\Temp\\pip-build-env-teak5m6i\\overlay\\Lib\\site-packages\\numpy\\core\\include -I./common -IC:\\Users\\Armando\\anaconda3\\envs\\tf_gpu\\include -IC:\\Users\\Armando\\anaconda3\\envs\\tf_gpu\\Include \"-IC:\\Program Files (x86)\\Microsoft Visual Studio\\2019\\Community\\VC\\Tools\\MSVC\\14.29.30133\\include\" /Tc./common/maskApi.c /Fobuild\\temp.win-amd64-cpython-310\\Release\\./common/maskApi.obj\n",
      "  maskApi.c\n",
      "  ./common/maskApi.c(8): fatal error C1083: Cannot open include file: 'math.h': No such file or directory\n",
      "  error: command 'C:\\\\Program Files (x86)\\\\Microsoft Visual Studio\\\\2019\\\\Community\\\\VC\\\\Tools\\\\MSVC\\\\14.29.30133\\\\bin\\\\HostX86\\\\x64\\\\cl.exe' failed with exit code 2\n",
      "  ----------------------------------------\n",
      "  ERROR: Failed building wheel for pycocotools\n",
      "ERROR: Could not build wheels for pycocotools which use PEP 517 and cannot be installed directly\n",
      "The system cannot find the path specified.\n",
      "'apt' is not recognized as an internal or external command,\n",
      "operable program or batch file.\n",
      "WARNING: Skipping opencv-python-headless as it is not installed.\n"
     ]
    },
    {
     "name": "stdout",
     "output_type": "stream",
     "text": [
      "We're here.\n"
     ]
    }
   ],
   "source": [
    "# Install packages\n",
    "\n",
    "# tf-models-official is the stable Model Garden package\n",
    "# tf-models-nightly includes latest changes\n",
    "!pip install -q tf-models-nightly\n",
    "\n",
    "# Install tfds nightly to download ucf101\n",
    "!pip install -q tfds-nightly\n",
    "\n",
    "# Install the mediapy package for visualizing images/videos.\n",
    "# See https://github.com/google/mediapy\n",
    "!command -v ffmpeg >/dev/null || (apt update && apt install -y ffmpeg)\n",
    "!pip install -q mediapy\n",
    "\n",
    "# Due to a bug, we reinstall opencv\n",
    "# See https://stackoverflow.com/q/70537488\n",
    "!pip uninstall -q -y opencv-python-headless\n",
    "!pip install -q \"opencv-python-headless<4.3\"\n",
    "print(\"We're here.\")"
   ]
  },
  {
   "cell_type": "code",
   "execution_count": 15,
   "metadata": {},
   "outputs": [
    {
     "name": "stdout",
     "output_type": "stream",
     "text": [
      "Requirement already satisfied: pandas in c:\\users\\armando\\anaconda3\\envs\\tf_gpu\\lib\\site-packages (1.4.2)\n",
      "Requirement already satisfied: numpy>=1.21.0 in c:\\users\\armando\\anaconda3\\envs\\tf_gpu\\lib\\site-packages (from pandas) (1.22.3)\n",
      "Requirement already satisfied: pytz>=2020.1 in c:\\users\\armando\\anaconda3\\envs\\tf_gpu\\lib\\site-packages (from pandas) (2022.1)\n",
      "Requirement already satisfied: python-dateutil>=2.8.1 in c:\\users\\armando\\anaconda3\\envs\\tf_gpu\\lib\\site-packages (from pandas) (2.8.2)\n",
      "Requirement already satisfied: six>=1.5 in c:\\users\\armando\\anaconda3\\envs\\tf_gpu\\lib\\site-packages (from python-dateutil>=2.8.1->pandas) (1.16.0)\n",
      "Requirement already satisfied: tensorflow_hub in c:\\users\\armando\\anaconda3\\envs\\tf_gpu\\lib\\site-packages (0.12.0)\n",
      "Requirement already satisfied: protobuf>=3.8.0 in c:\\users\\armando\\anaconda3\\envs\\tf_gpu\\lib\\site-packages (from tensorflow_hub) (3.20.1)\n",
      "Requirement already satisfied: numpy>=1.12.0 in c:\\users\\armando\\anaconda3\\envs\\tf_gpu\\lib\\site-packages (from tensorflow_hub) (1.22.3)\n",
      "Requirement already satisfied: tqdm in c:\\users\\armando\\anaconda3\\envs\\tf_gpu\\lib\\site-packages (4.64.0)\n",
      "Requirement already satisfied: colorama in c:\\users\\armando\\anaconda3\\envs\\tf_gpu\\lib\\site-packages (from tqdm) (0.4.4)\n",
      "Requirement already satisfied: wget in c:\\users\\armando\\anaconda3\\envs\\tf_gpu\\lib\\site-packages (3.2)\n",
      "Collecting ffmpeg\n",
      "  Using cached ffmpeg-1.4.tar.gz (5.1 kB)\n",
      "Building wheels for collected packages: ffmpeg\n",
      "  Building wheel for ffmpeg (setup.py): started\n",
      "  Building wheel for ffmpeg (setup.py): finished with status 'done'\n",
      "  Created wheel for ffmpeg: filename=ffmpeg-1.4-py3-none-any.whl size=6084 sha256=6cb87cacf0dce1844ffef876a2f3d6d8f0e0b1545af3fa0a0d378ea31d283018\n",
      "  Stored in directory: c:\\users\\armando\\appdata\\local\\pip\\cache\\wheels\\8e\\7a\\69\\cd6aeb83b126a7f04cbe7c9d929028dc52a6e7d525ff56003a\n",
      "Successfully built ffmpeg\n",
      "Installing collected packages: ffmpeg\n",
      "Successfully installed ffmpeg-1.4\n"
     ]
    }
   ],
   "source": [
    "!pip install pandas\n",
    "!pip install tensorflow_hub\n",
    "!pip install tqdm\n",
    "!pip install wget\n",
    "!pip install ffmpeg"
   ]
  },
  {
   "cell_type": "code",
   "execution_count": 16,
   "metadata": {
    "id": "dI_1csl6Q-gH"
   },
   "outputs": [],
   "source": [
    "# Run imports\n",
    "import os\n",
    "\n",
    "\n",
    "import matplotlib as mpl\n",
    "import matplotlib.pyplot as plt\n",
    "import mediapy as media\n",
    "import numpy as np\n",
    "import PIL\n",
    "import pandas as pd\n",
    "import tensorflow as tf\n",
    "import tensorflow_datasets as tfds\n",
    "import tensorflow_hub as hub\n",
    "import tqdm\n",
    "import wget\n",
    "import ffmpeg\n",
    "\n",
    "mpl.rcParams.update({\n",
    "    'font.size': 10,\n",
    "})"
   ]
  },
  {
   "cell_type": "markdown",
   "metadata": {
    "id": "OnFqOXazoWgy"
   },
   "source": [
    "Run the cell below to define helper functions and create variables."
   ]
  },
  {
   "cell_type": "markdown",
   "metadata": {
    "id": "lSJFtxjMQQzi"
   },
   "source": []
  },
  {
   "cell_type": "code",
   "execution_count": 12,
   "metadata": {
    "id": "dx55NK3ZoZeh"
   },
   "outputs": [],
   "source": [
    "#@title Run this cell to set up some helper code.\n",
    "\n",
    "# Download Kinetics 600 label map\n",
    "!wget https://raw.githubusercontent.com/tensorflow/models/f8af2291cced43fc9f1d9b41ddbf772ae7b0d7d2/official/projects/movinet/files/kinetics_600_labels.txt -O labels.txt -q\n",
    "\n",
    "with tf.io.gfile.GFile('labels.txt') as f:\n",
    "  lines = f.readlines()\n",
    "  KINETICS_600_LABELS_LIST = [line.strip() for line in lines]\n",
    "  KINETICS_600_LABELS = tf.constant(KINETICS_600_LABELS_LIST)\n",
    "\n",
    "def get_top_k(probs, k=5, label_map=KINETICS_600_LABELS):\n",
    "  \"\"\"Outputs the top k model labels and probabilities on the given video.\"\"\"\n",
    "  top_predictions = tf.argsort(probs, axis=-1, direction='DESCENDING')[:k]\n",
    "  top_labels = tf.gather(label_map, top_predictions, axis=-1)\n",
    "  top_labels = [label.decode('utf8') for label in top_labels.numpy()]\n",
    "  top_probs = tf.gather(probs, top_predictions, axis=-1).numpy()\n",
    "  return tuple(zip(top_labels, top_probs))\n",
    "\n",
    "def predict_top_k(model, video, k=5, label_map=KINETICS_600_LABELS):\n",
    "  \"\"\"Outputs the top k model labels and probabilities on the given video.\"\"\"\n",
    "  outputs = model.predict(video[tf.newaxis])[0]\n",
    "  probs = tf.nn.softmax(outputs)\n",
    "  return get_top_k(probs, k=k, label_map=label_map)\n",
    "\n",
    "def load_movinet_from_hub(model_id, model_mode, hub_version=3):\n",
    "  \"\"\"Loads a MoViNet model from TF Hub.\"\"\"\n",
    "  hub_url = f'https://tfhub.dev/tensorflow/movinet/{model_id}/{model_mode}/kinetics-600/classification/{hub_version}'\n",
    "\n",
    "  encoder = hub.KerasLayer(hub_url, trainable=True)\n",
    "\n",
    "  inputs = tf.keras.layers.Input(\n",
    "      shape=[None, None, None, 3],\n",
    "      dtype=tf.float32)\n",
    "\n",
    "  if model_mode == 'base':\n",
    "    inputs = dict(image=inputs)\n",
    "  else:\n",
    "    # Define the state inputs, which is a dict that maps state names to tensors.\n",
    "    init_states_fn = encoder.resolved_object.signatures['init_states']\n",
    "    state_shapes = {\n",
    "        name: ([s if s > 0 else None for s in state.shape], state.dtype)\n",
    "        for name, state in init_states_fn(tf.constant([0, 0, 0, 0, 3])).items()\n",
    "    }\n",
    "    states_input = {\n",
    "        name: tf.keras.Input(shape[1:], dtype=dtype, name=name)\n",
    "        for name, (shape, dtype) in state_shapes.items()\n",
    "    }\n",
    "\n",
    "    # The inputs to the model are the states and the video\n",
    "    inputs = {**states_input, 'image': inputs}\n",
    "\n",
    "  # Output shape: [batch_size, 600]\n",
    "  outputs = encoder(inputs)\n",
    "\n",
    "  model = tf.keras.Model(inputs, outputs)\n",
    "  model.build([1, 1, 1, 1, 3])\n",
    "\n",
    "  return model\n",
    "\n",
    "# Download example gif\n",
    "!wget https://github.com/tensorflow/models/raw/f8af2291cced43fc9f1d9b41ddbf772ae7b0d7d2/official/projects/movinet/files/jumpingjack.gif -O jumpingjack.gif -q\n",
    "\n",
    "def load_gif(file_path, image_size=(224, 224)):\n",
    "  \"\"\"Loads a gif file into a TF tensor.\"\"\"\n",
    "  with tf.io.gfile.GFile(file_path, 'rb') as f:\n",
    "    video = tf.io.decode_gif(f.read())\n",
    "  video = tf.image.resize(video, image_size)\n",
    "  video = tf.cast(video, tf.float32) / 255.\n",
    "  return video\n",
    "\n",
    "def get_top_k_streaming_labels(probs, k=5, label_map=KINETICS_600_LABELS_LIST):\n",
    "  \"\"\"Returns the top-k labels over an entire video sequence.\n",
    "\n",
    "  Args:\n",
    "    probs: probability tensor of shape (num_frames, num_classes) that represents\n",
    "      the probability of each class on each frame.\n",
    "    k: the number of top predictions to select.\n",
    "    label_map: a list of labels to map logit indices to label strings.\n",
    "\n",
    "  Returns:\n",
    "    a tuple of the top-k probabilities, labels, and logit indices\n",
    "  \"\"\"\n",
    "  top_categories_last = tf.argsort(probs, -1, 'DESCENDING')[-1, :1]\n",
    "  categories = tf.argsort(probs, -1, 'DESCENDING')[:, :k]\n",
    "  categories = tf.reshape(categories, [-1])\n",
    "\n",
    "  counts = sorted([\n",
    "      (i.numpy(), tf.reduce_sum(tf.cast(categories == i, tf.int32)).numpy())\n",
    "      for i in tf.unique(categories)[0]\n",
    "  ], key=lambda x: x[1], reverse=True)\n",
    "\n",
    "  top_probs_idx = tf.constant([i for i, _ in counts[:k]])\n",
    "  top_probs_idx = tf.concat([top_categories_last, top_probs_idx], 0)\n",
    "  top_probs_idx = tf.unique(top_probs_idx)[0][:k+1]\n",
    "\n",
    "  top_probs = tf.gather(probs, top_probs_idx, axis=-1)\n",
    "  top_probs = tf.transpose(top_probs, perm=(1, 0))\n",
    "  top_labels = tf.gather(label_map, top_probs_idx, axis=0)\n",
    "  top_labels = [label.decode('utf8') for label in top_labels.numpy()]\n",
    "\n",
    "  return top_probs, top_labels, top_probs_idx\n",
    "\n",
    "def plot_streaming_top_preds_at_step(\n",
    "    top_probs,\n",
    "    top_labels,\n",
    "    step=None,\n",
    "    image=None,\n",
    "    legend_loc='lower left',\n",
    "    duration_seconds=10,\n",
    "    figure_height=500,\n",
    "    playhead_scale=0.8,\n",
    "    grid_alpha=0.3):\n",
    "  \"\"\"Generates a plot of the top video model predictions at a given time step.\n",
    "\n",
    "  Args:\n",
    "    top_probs: a tensor of shape (k, num_frames) representing the top-k\n",
    "      probabilities over all frames.\n",
    "    top_labels: a list of length k that represents the top-k label strings.\n",
    "    step: the current time step in the range [0, num_frames].\n",
    "    image: the image frame to display at the current time step.\n",
    "    legend_loc: the placement location of the legend.\n",
    "    duration_seconds: the total duration of the video.\n",
    "    figure_height: the output figure height.\n",
    "    playhead_scale: scale value for the playhead.\n",
    "    grid_alpha: alpha value for the gridlines.\n",
    "\n",
    "  Returns:\n",
    "    A tuple of the output numpy image, figure, and axes.\n",
    "  \"\"\"\n",
    "  num_labels, num_frames = top_probs.shape\n",
    "  if step is None:\n",
    "    step = num_frames\n",
    "\n",
    "  fig = plt.figure(figsize=(6.5, 7), dpi=300)\n",
    "  gs = mpl.gridspec.GridSpec(8, 1)\n",
    "  ax2 = plt.subplot(gs[:-3, :])\n",
    "  ax = plt.subplot(gs[-3:, :])\n",
    "\n",
    "  if image is not None:\n",
    "    ax2.imshow(image, interpolation='nearest')\n",
    "    ax2.axis('off')\n",
    "\n",
    "  preview_line_x = tf.linspace(0., duration_seconds, num_frames)\n",
    "  preview_line_y = top_probs\n",
    "\n",
    "  line_x = preview_line_x[:step+1]\n",
    "  line_y = preview_line_y[:, :step+1]\n",
    "\n",
    "  for i in range(num_labels):\n",
    "    ax.plot(preview_line_x, preview_line_y[i], label=None, linewidth='1.5',\n",
    "            linestyle=':', color='gray')\n",
    "    ax.plot(line_x, line_y[i], label=top_labels[i], linewidth='2.0')\n",
    "\n",
    "\n",
    "  ax.grid(which='major', linestyle=':', linewidth='1.0', alpha=grid_alpha)\n",
    "  ax.grid(which='minor', linestyle=':', linewidth='0.5', alpha=grid_alpha)\n",
    "\n",
    "  min_height = tf.reduce_min(top_probs) * playhead_scale\n",
    "  max_height = tf.reduce_max(top_probs)\n",
    "  ax.vlines(preview_line_x[step], min_height, max_height, colors='red')\n",
    "  ax.scatter(preview_line_x[step], max_height, color='red')\n",
    "\n",
    "  ax.legend(loc=legend_loc)\n",
    "\n",
    "  plt.xlim(0, duration_seconds)\n",
    "  plt.ylabel('Probability')\n",
    "  plt.xlabel('Time (s)')\n",
    "  plt.yscale('log')\n",
    "\n",
    "  fig.tight_layout()\n",
    "  fig.canvas.draw()\n",
    "\n",
    "  data = np.frombuffer(fig.canvas.tostring_rgb(), dtype=np.uint8)\n",
    "  data = data.reshape(fig.canvas.get_width_height()[::-1] + (3,))\n",
    "  plt.close()\n",
    "\n",
    "  figure_width = int(figure_height * data.shape[1] / data.shape[0])\n",
    "  image = PIL.Image.fromarray(data).resize([figure_width, figure_height])\n",
    "  image = np.array(image)\n",
    "\n",
    "  return image, (fig, ax, ax2)\n",
    "\n",
    "def plot_streaming_top_preds(\n",
    "    probs,\n",
    "    video,\n",
    "    top_k=5,\n",
    "    video_fps=25.,\n",
    "    figure_height=500,\n",
    "    use_progbar=True):\n",
    "  \"\"\"Generates a video plot of the top video model predictions.\n",
    "\n",
    "  Args:\n",
    "    probs: probability tensor of shape (num_frames, num_classes) that represents\n",
    "      the probability of each class on each frame.\n",
    "    video: the video to display in the plot.\n",
    "    top_k: the number of top predictions to select.\n",
    "    video_fps: the input video fps.\n",
    "    figure_fps: the output video fps.\n",
    "    figure_height: the height of the output video.\n",
    "    use_progbar: display a progress bar.\n",
    "\n",
    "  Returns:\n",
    "    A numpy array representing the output video.\n",
    "  \"\"\"\n",
    "  video_fps = 8.\n",
    "  figure_height = 500\n",
    "  steps = video.shape[0]\n",
    "  duration = steps / video_fps\n",
    "\n",
    "  top_probs, top_labels, _ = get_top_k_streaming_labels(probs, k=top_k)\n",
    "\n",
    "  images = []\n",
    "  step_generator = tqdm.trange(steps) if use_progbar else range(steps)\n",
    "  for i in step_generator:\n",
    "    image, _ = plot_streaming_top_preds_at_step(\n",
    "        top_probs=top_probs,\n",
    "        top_labels=top_labels,\n",
    "        step=i,\n",
    "        image=video[i],\n",
    "        duration_seconds=duration,\n",
    "        figure_height=figure_height,\n",
    "    )\n",
    "    images.append(image)\n",
    "\n",
    "  return np.array(images)"
   ]
  },
  {
   "cell_type": "markdown",
   "metadata": {
    "id": "6g0tuFvf71S9"
   },
   "source": [
    "## Running Base Model Inference with TensorFlow Hub\n",
    "\n",
    "We will load MoViNet-A2-Base from TensorFlow Hub as part of the [MoViNet collection](https://tfhub.dev/google/collections/movinet/).\n",
    "\n",
    "The following code will:\n",
    "\n",
    "- Load a MoViNet KerasLayer from [tfhub.dev](https://tfhub.dev).\n",
    "- Wrap the layer in a [Keras Model](https://www.tensorflow.org/api_docs/python/tf/keras/Model).\n",
    "- Load an example gif as a video.\n",
    "- Classify the video and print the top-5 predicted classes."
   ]
  },
  {
   "cell_type": "code",
   "execution_count": 18,
   "metadata": {
    "id": "KZKKNZVBpglJ"
   },
   "outputs": [],
   "source": [
    "model = load_movinet_from_hub('a2', 'base', hub_version=3)"
   ]
  },
  {
   "cell_type": "code",
   "execution_count": 21,
   "metadata": {
    "colab": {
     "base_uri": "https://localhost:8080/",
     "height": 213
    },
    "id": "Iy0rKRrT723_",
    "outputId": "5a240cdc-6477-4a57-f121-0f135f205bf4"
   },
   "outputs": [
    {
     "name": "stdout",
     "output_type": "stream",
     "text": [
      "(12, 172, 172, 3)\n"
     ]
    },
    {
     "ename": "RuntimeError",
     "evalue": "Program 'ffmpeg' is not found; perhaps install ffmpeg using 'apt-get install ffmpeg'.",
     "output_type": "error",
     "traceback": [
      "\u001b[1;31m---------------------------------------------------------------------------\u001b[0m",
      "\u001b[1;31mRuntimeError\u001b[0m                              Traceback (most recent call last)",
      "Input \u001b[1;32mIn [21]\u001b[0m, in \u001b[0;36m<cell line: 5>\u001b[1;34m()\u001b[0m\n\u001b[0;32m      3\u001b[0m \u001b[38;5;66;03m# Show video\u001b[39;00m\n\u001b[0;32m      4\u001b[0m \u001b[38;5;28mprint\u001b[39m(video\u001b[38;5;241m.\u001b[39mshape)\n\u001b[1;32m----> 5\u001b[0m \u001b[43mmedia\u001b[49m\u001b[38;5;241;43m.\u001b[39;49m\u001b[43mshow_video\u001b[49m\u001b[43m(\u001b[49m\u001b[43mvideo\u001b[49m\u001b[38;5;241;43m.\u001b[39;49m\u001b[43mnumpy\u001b[49m\u001b[43m(\u001b[49m\u001b[43m)\u001b[49m\u001b[43m,\u001b[49m\u001b[43m \u001b[49m\u001b[43mfps\u001b[49m\u001b[38;5;241;43m=\u001b[39;49m\u001b[38;5;241;43m5\u001b[39;49m\u001b[43m)\u001b[49m\n",
      "File \u001b[1;32m~\\anaconda3\\envs\\tf_gpu\\lib\\site-packages\\mediapy\\__init__.py:1573\u001b[0m, in \u001b[0;36mshow_video\u001b[1;34m(images, title, **kwargs)\u001b[0m\n\u001b[0;32m   1552\u001b[0m \u001b[38;5;28;01mdef\u001b[39;00m \u001b[38;5;21mshow_video\u001b[39m(images: Iterable[np\u001b[38;5;241m.\u001b[39mndarray],\n\u001b[0;32m   1553\u001b[0m                \u001b[38;5;241m*\u001b[39m,\n\u001b[0;32m   1554\u001b[0m                title: Optional[\u001b[38;5;28mstr\u001b[39m] \u001b[38;5;241m=\u001b[39m \u001b[38;5;28;01mNone\u001b[39;00m,\n\u001b[0;32m   1555\u001b[0m                \u001b[38;5;241m*\u001b[39m\u001b[38;5;241m*\u001b[39mkwargs: Any) \u001b[38;5;241m-\u001b[39m\u001b[38;5;241m>\u001b[39m \u001b[38;5;28;01mNone\u001b[39;00m:\n\u001b[0;32m   1556\u001b[0m   \u001b[38;5;124;03m\"\"\"Displays a video in the IPython notebook and optionally saves it to a file.\u001b[39;00m\n\u001b[0;32m   1557\u001b[0m \n\u001b[0;32m   1558\u001b[0m \u001b[38;5;124;03m  See `show_videos`.\u001b[39;00m\n\u001b[1;32m   (...)\u001b[0m\n\u001b[0;32m   1571\u001b[0m \u001b[38;5;124;03m    **kwargs: See `show_videos`.\u001b[39;00m\n\u001b[0;32m   1572\u001b[0m \u001b[38;5;124;03m  \"\"\"\u001b[39;00m\n\u001b[1;32m-> 1573\u001b[0m   show_videos([images], [title], \u001b[38;5;241m*\u001b[39m\u001b[38;5;241m*\u001b[39mkwargs)\n",
      "File \u001b[1;32m~\\anaconda3\\envs\\tf_gpu\\lib\\site-packages\\mediapy\\__init__.py:1644\u001b[0m, in \u001b[0;36mshow_videos\u001b[1;34m(videos, titles, width, height, downsample, columns, fps, bps, qp, codec, ylabel, html_class, **kwargs)\u001b[0m\n\u001b[0;32m   1641\u001b[0m \u001b[38;5;28;01mif\u001b[39;00m downsample \u001b[38;5;129;01mand\u001b[39;00m (w \u001b[38;5;241m<\u001b[39m first_image\u001b[38;5;241m.\u001b[39mshape[\u001b[38;5;241m1\u001b[39m] \u001b[38;5;129;01mor\u001b[39;00m h \u001b[38;5;241m<\u001b[39m first_image\u001b[38;5;241m.\u001b[39mshape[\u001b[38;5;241m0\u001b[39m]):\n\u001b[0;32m   1642\u001b[0m   \u001b[38;5;66;03m# Not resize_video() because each image may have different depth and type.\u001b[39;00m\n\u001b[0;32m   1643\u001b[0m   video \u001b[38;5;241m=\u001b[39m [resize_image(image, (h, w)) \u001b[38;5;28;01mfor\u001b[39;00m image \u001b[38;5;129;01min\u001b[39;00m video]\n\u001b[1;32m-> 1644\u001b[0m data \u001b[38;5;241m=\u001b[39m \u001b[43mcompress_video\u001b[49m\u001b[43m(\u001b[49m\n\u001b[0;32m   1645\u001b[0m \u001b[43m    \u001b[49m\u001b[43mvideo\u001b[49m\u001b[43m,\u001b[49m\u001b[43m \u001b[49m\u001b[43mmetadata\u001b[49m\u001b[38;5;241;43m=\u001b[39;49m\u001b[43mmetadata\u001b[49m\u001b[43m,\u001b[49m\u001b[43m \u001b[49m\u001b[43mfps\u001b[49m\u001b[38;5;241;43m=\u001b[39;49m\u001b[43mfps\u001b[49m\u001b[43m,\u001b[49m\u001b[43m \u001b[49m\u001b[43mbps\u001b[49m\u001b[38;5;241;43m=\u001b[39;49m\u001b[43mbps\u001b[49m\u001b[43m,\u001b[49m\u001b[43m \u001b[49m\u001b[43mqp\u001b[49m\u001b[38;5;241;43m=\u001b[39;49m\u001b[43mqp\u001b[49m\u001b[43m,\u001b[49m\u001b[43m \u001b[49m\u001b[43mcodec\u001b[49m\u001b[38;5;241;43m=\u001b[39;49m\u001b[43mcodec\u001b[49m\u001b[43m)\u001b[49m\n\u001b[0;32m   1646\u001b[0m \u001b[38;5;28;01mif\u001b[39;00m title \u001b[38;5;129;01mand\u001b[39;00m _config\u001b[38;5;241m.\u001b[39mshow_save_dir:\n\u001b[0;32m   1647\u001b[0m   suffix \u001b[38;5;241m=\u001b[39m _filename_suffix_from_codec(codec)\n",
      "File \u001b[1;32m~\\anaconda3\\envs\\tf_gpu\\lib\\site-packages\\mediapy\\__init__.py:1503\u001b[0m, in \u001b[0;36mcompress_video\u001b[1;34m(images, codec, **kwargs)\u001b[0m\n\u001b[0;32m   1501\u001b[0m \u001b[38;5;28;01mwith\u001b[39;00m tempfile\u001b[38;5;241m.\u001b[39mTemporaryDirectory() \u001b[38;5;28;01mas\u001b[39;00m directory_name:\n\u001b[0;32m   1502\u001b[0m   tmp_path \u001b[38;5;241m=\u001b[39m pathlib\u001b[38;5;241m.\u001b[39mPath(directory_name) \u001b[38;5;241m/\u001b[39m \u001b[38;5;124mf\u001b[39m\u001b[38;5;124m'\u001b[39m\u001b[38;5;124mfile\u001b[39m\u001b[38;5;132;01m{\u001b[39;00msuffix\u001b[38;5;132;01m}\u001b[39;00m\u001b[38;5;124m'\u001b[39m\n\u001b[1;32m-> 1503\u001b[0m   write_video(tmp_path, images, codec\u001b[38;5;241m=\u001b[39mcodec, \u001b[38;5;241m*\u001b[39m\u001b[38;5;241m*\u001b[39mkwargs)\n\u001b[0;32m   1504\u001b[0m   \u001b[38;5;28;01mreturn\u001b[39;00m tmp_path\u001b[38;5;241m.\u001b[39mread_bytes()\n",
      "File \u001b[1;32m~\\anaconda3\\envs\\tf_gpu\\lib\\site-packages\\mediapy\\__init__.py:1472\u001b[0m, in \u001b[0;36mwrite_video\u001b[1;34m(path, images, **kwargs)\u001b[0m\n\u001b[0;32m   1470\u001b[0m   dtype \u001b[38;5;241m=\u001b[39m np\u001b[38;5;241m.\u001b[39muint16\n\u001b[0;32m   1471\u001b[0m kwargs \u001b[38;5;241m=\u001b[39m {\u001b[38;5;124m'\u001b[39m\u001b[38;5;124mmetadata\u001b[39m\u001b[38;5;124m'\u001b[39m: \u001b[38;5;28mgetattr\u001b[39m(images, \u001b[38;5;124m'\u001b[39m\u001b[38;5;124mmetadata\u001b[39m\u001b[38;5;124m'\u001b[39m, \u001b[38;5;28;01mNone\u001b[39;00m), \u001b[38;5;241m*\u001b[39m\u001b[38;5;241m*\u001b[39mkwargs}\n\u001b[1;32m-> 1472\u001b[0m \u001b[38;5;28;01mwith\u001b[39;00m VideoWriter(path, shape\u001b[38;5;241m=\u001b[39mshape, dtype\u001b[38;5;241m=\u001b[39mdtype, \u001b[38;5;241m*\u001b[39m\u001b[38;5;241m*\u001b[39mkwargs) \u001b[38;5;28;01mas\u001b[39;00m writer:\n\u001b[0;32m   1473\u001b[0m   \u001b[38;5;28;01mfor\u001b[39;00m image \u001b[38;5;129;01min\u001b[39;00m images:\n\u001b[0;32m   1474\u001b[0m     writer\u001b[38;5;241m.\u001b[39madd_image(image)\n",
      "File \u001b[1;32m~\\anaconda3\\envs\\tf_gpu\\lib\\site-packages\\mediapy\\__init__.py:1325\u001b[0m, in \u001b[0;36mVideoWriter.__enter__\u001b[1;34m(self)\u001b[0m\n\u001b[0;32m   1324\u001b[0m \u001b[38;5;28;01mdef\u001b[39;00m \u001b[38;5;21m__enter__\u001b[39m(\u001b[38;5;28mself\u001b[39m) \u001b[38;5;241m-\u001b[39m\u001b[38;5;241m>\u001b[39m \u001b[38;5;124m'\u001b[39m\u001b[38;5;124mVideoWriter\u001b[39m\u001b[38;5;124m'\u001b[39m:\n\u001b[1;32m-> 1325\u001b[0m   ffmpeg_path \u001b[38;5;241m=\u001b[39m \u001b[43m_get_ffmpeg_path\u001b[49m\u001b[43m(\u001b[49m\u001b[43m)\u001b[49m\n\u001b[0;32m   1326\u001b[0m   input_pix_fmt \u001b[38;5;241m=\u001b[39m \u001b[38;5;28mself\u001b[39m\u001b[38;5;241m.\u001b[39m_get_pix_fmt(\u001b[38;5;28mself\u001b[39m\u001b[38;5;241m.\u001b[39mdtype, \u001b[38;5;28mself\u001b[39m\u001b[38;5;241m.\u001b[39minput_format)\n\u001b[0;32m   1327\u001b[0m   \u001b[38;5;28;01mtry\u001b[39;00m:\n",
      "File \u001b[1;32m~\\anaconda3\\envs\\tf_gpu\\lib\\site-packages\\mediapy\\__init__.py:968\u001b[0m, in \u001b[0;36m_get_ffmpeg_path\u001b[1;34m()\u001b[0m\n\u001b[0;32m    966\u001b[0m path \u001b[38;5;241m=\u001b[39m _search_for_ffmpeg_path()\n\u001b[0;32m    967\u001b[0m \u001b[38;5;28;01mif\u001b[39;00m \u001b[38;5;129;01mnot\u001b[39;00m path:\n\u001b[1;32m--> 968\u001b[0m   \u001b[38;5;28;01mraise\u001b[39;00m \u001b[38;5;167;01mRuntimeError\u001b[39;00m(\n\u001b[0;32m    969\u001b[0m       \u001b[38;5;124mf\u001b[39m\u001b[38;5;124m\"\u001b[39m\u001b[38;5;124mProgram \u001b[39m\u001b[38;5;124m'\u001b[39m\u001b[38;5;132;01m{\u001b[39;00m_config\u001b[38;5;241m.\u001b[39mffmpeg_name_or_path\u001b[38;5;132;01m}\u001b[39;00m\u001b[38;5;124m'\u001b[39m\u001b[38;5;124m is not found;\u001b[39m\u001b[38;5;124m\"\u001b[39m\n\u001b[0;32m    970\u001b[0m       \u001b[38;5;124m\"\u001b[39m\u001b[38;5;124m perhaps install ffmpeg using \u001b[39m\u001b[38;5;124m'\u001b[39m\u001b[38;5;124mapt-get install ffmpeg\u001b[39m\u001b[38;5;124m'\u001b[39m\u001b[38;5;124m.\u001b[39m\u001b[38;5;124m\"\u001b[39m)\n\u001b[0;32m    971\u001b[0m \u001b[38;5;28;01mreturn\u001b[39;00m path\n",
      "\u001b[1;31mRuntimeError\u001b[0m: Program 'ffmpeg' is not found; perhaps install ffmpeg using 'apt-get install ffmpeg'."
     ]
    }
   ],
   "source": [
    "video = load_gif('walk.gif', image_size=(172, 172))\n",
    "\n",
    "# Show video\n",
    "print(video.shape)\n",
    "# media.show_video(video.numpy(), fps=5)"
   ]
  },
  {
   "cell_type": "code",
   "execution_count": null,
   "metadata": {
    "colab": {
     "base_uri": "https://localhost:8080/"
    },
    "id": "P0bZfrAsqPv2",
    "outputId": "3ae8dde9-4432-40a3-a40d-34edf65bd361"
   },
   "outputs": [],
   "source": [
    "# Run the model on the video and output the top 5 predictions\n",
    "outputs = predict_top_k(model, video)\n",
    "\n",
    "for label, prob in outputs:\n",
    "  print(label, prob)"
   ]
  },
  {
   "cell_type": "markdown",
   "metadata": {
    "id": "ADrHPmwGcBZ5"
   },
   "source": [
    "## Run Streaming Model Inference with TensorFlow Hub and Plot Predictions\n",
    "\n",
    "We will load MoViNet-A0-Stream from TensorFlow Hub as part of the [MoViNet collection](https://tfhub.dev/google/collections/movinet/).\n",
    "\n",
    "The following code will:\n",
    "\n",
    "- Load a MoViNet model from [tfhub.dev](https://tfhub.dev).\n",
    "- Classify an example video and plot the streaming predictions over time."
   ]
  },
  {
   "cell_type": "code",
   "execution_count": null,
   "metadata": {
    "id": "tXWR13wthnK5"
   },
   "outputs": [],
   "source": [
    "model = load_movinet_from_hub('a2', 'stream', hub_version=3)\n",
    "\n",
    "# Create initial states for the stream model\n",
    "init_states_fn = model.layers[-1].resolved_object.signatures['init_states']\n",
    "init_states = init_states_fn(tf.shape(video[tf.newaxis]))"
   ]
  },
  {
   "cell_type": "code",
   "execution_count": null,
   "metadata": {
    "colab": {
     "base_uri": "https://localhost:8080/"
    },
    "id": "YqSkt7l8ltwt",
    "outputId": "e292941b-ed1d-46d8-85e7-a34c6f395890"
   },
   "outputs": [
    {
     "name": "stderr",
     "output_type": "stream",
     "text": [
      "100%|██████████| 13/13 [00:12<00:00,  1.05it/s]"
     ]
    },
    {
     "name": "stdout",
     "output_type": "stream",
     "text": [
      "\n",
      "jumping jacks 0.9998123\n",
      "zumba 0.00011835508\n",
      "doing aerobics 3.3375818e-05\n",
      "dancing charleston 4.9819987e-06\n",
      "finger snapping 3.8673647e-06\n"
     ]
    },
    {
     "name": "stderr",
     "output_type": "stream",
     "text": [
      "\n"
     ]
    }
   ],
   "source": [
    "# Insert your video clip here\n",
    "video = load_gif('jumpingjack.gif', image_size=(172, 172))\n",
    "clips = tf.split(video[tf.newaxis], video.shape[0], axis=1)\n",
    "\n",
    "all_logits = []\n",
    "\n",
    "# To run on a video, pass in one frame at a time\n",
    "states = init_states\n",
    "for clip in tqdm.tqdm(clips):\n",
    "  # Input shape: [1, 1, 172, 172, 3]\n",
    "  logits, states = model.predict({**states, 'image': clip}, verbose=0)\n",
    "  all_logits.append(logits)\n",
    "\n",
    "logits = tf.concat(all_logits, 0)\n",
    "probs = tf.nn.softmax(logits)\n",
    "\n",
    "final_probs = probs[-1]\n",
    "top_k = get_top_k(final_probs)\n",
    "print()\n",
    "for label, prob in top_k:\n",
    "  print(label, prob)"
   ]
  },
  {
   "cell_type": "code",
   "execution_count": null,
   "metadata": {
    "colab": {
     "base_uri": "https://localhost:8080/"
    },
    "id": "Xdox556CtMRb",
    "outputId": "810078dd-909f-45dd-8bb5-4a07ce8fd18c"
   },
   "outputs": [
    {
     "name": "stderr",
     "output_type": "stream",
     "text": [
      "100%|██████████| 13/13 [00:11<00:00,  1.10it/s]\n"
     ]
    }
   ],
   "source": [
    "# Generate a plot and output to a video tensor\n",
    "plot_video = plot_streaming_top_preds(probs, video, video_fps=8.)"
   ]
  },
  {
   "cell_type": "code",
   "execution_count": null,
   "metadata": {
    "colab": {
     "base_uri": "https://localhost:8080/",
     "height": 523
    },
    "id": "NSStKE9klCs3",
    "outputId": "07889543-8ca0-44e7-8b00-2b2b8bbb7992"
   },
   "outputs": [
    {
     "data": {
      "text/html": [
       "<table class=\"show_videos\" style=\"border-spacing:0px;\"><tr><td style=\"padding:1px;\"><video controls width=\"464\" height=\"500\" style=\"object-fit:cover;\" loop autoplay>\n",
       "      <source src=\"data:video/mp4;base64,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\" type=\"video/mp4\"/>\n",
       "      This browser does not support the video tag.\n",
       "      </video></td></tr></table>"
      ],
      "text/plain": [
       "<IPython.core.display.HTML object>"
      ]
     },
     "metadata": {},
     "output_type": "display_data"
    }
   ],
   "source": [
    "# For gif format, set codec='gif'\n",
    "media.show_video(plot_video, fps=3)"
   ]
  },
  {
   "cell_type": "markdown",
   "metadata": {
    "id": "W3CLHvubvdSI"
   },
   "source": [
    "## Export a Streaming Model to TensorFlow Lite for Mobile\n",
    "\n",
    "We will convert a MoViNet-A0-Stream model to [TensorFlow Lite](https://www.tensorflow.org/lite).\n",
    "\n",
    "The following code will:\n",
    "- Load a MoViNet-A0-Stream model.\n",
    "- Convert the model to TF Lite.\n",
    "- Run inference on an example video using the Python interpreter."
   ]
  },
  {
   "cell_type": "code",
   "execution_count": null,
   "metadata": {
    "colab": {
     "base_uri": "https://localhost:8080/"
    },
    "id": "KH0j-07KVh06",
    "outputId": "1b1fa530-f985-4bee-ac44-c93785d55241"
   },
   "outputs": [
    {
     "name": "stderr",
     "output_type": "stream",
     "text": [
      "/usr/local/lib/python3.7/dist-packages/tensorflow_addons/utils/ensure_tf_install.py:43: UserWarning: You are currently using a nightly version of TensorFlow (2.10.0-dev20220427). \n",
      "TensorFlow Addons offers no support for the nightly versions of TensorFlow. Some things might work, some other might not. \n",
      "If you encounter a bug, do not file an issue on GitHub.\n",
      "  UserWarning,\n"
     ]
    }
   ],
   "source": [
    "# Run imports\n",
    "from official.vision.configs import video_classification\n",
    "from official.projects.movinet.configs import movinet as movinet_configs\n",
    "from official.projects.movinet.modeling import movinet\n",
    "from official.projects.movinet.modeling import movinet_layers\n",
    "from official.projects.movinet.modeling import movinet_model\n",
    "from official.projects.movinet.tools import export_saved_model"
   ]
  },
  {
   "cell_type": "code",
   "execution_count": null,
   "metadata": {
    "colab": {
     "base_uri": "https://localhost:8080/"
    },
    "id": "RLkV0xtPvfkY",
    "outputId": "00312567-e8f0-40db-a97e-c0c2cc94d76a"
   },
   "outputs": [
    {
     "name": "stdout",
     "output_type": "stream",
     "text": [
      "movinet_a0_stream/\n",
      "movinet_a0_stream/ckpt-1.data-00000-of-00001\n",
      "movinet_a0_stream/ckpt-1.index\n",
      "movinet_a0_stream/checkpoint\n",
      "WARNING:tensorflow:Inconsistent references when loading the checkpoint into this object graph. For example, in the saved checkpoint object, `model.layer.weight` and `model.layer_copy.weight` reference the same variable, while in the current object these are two different variables. The referenced variables are:(<official.projects.movinet.modeling.movinet.Movinet object at 0x7fb891dcd410> and <keras.engine.input_layer.InputLayer object at 0x7fb88bc56f90>).\n"
     ]
    },
    {
     "name": "stderr",
     "output_type": "stream",
     "text": [
      "WARNING:tensorflow:Inconsistent references when loading the checkpoint into this object graph. For example, in the saved checkpoint object, `model.layer.weight` and `model.layer_copy.weight` reference the same variable, while in the current object these are two different variables. The referenced variables are:(<official.projects.movinet.modeling.movinet.Movinet object at 0x7fb891dcd410> and <keras.engine.input_layer.InputLayer object at 0x7fb88bc56f90>).\n"
     ]
    },
    {
     "name": "stdout",
     "output_type": "stream",
     "text": [
      "WARNING:tensorflow:Inconsistent references when loading the checkpoint into this object graph. For example, in the saved checkpoint object, `model.layer.weight` and `model.layer_copy.weight` reference the same variable, while in the current object these are two different variables. The referenced variables are:(<official.projects.movinet.modeling.movinet_layers.ClassifierHead object at 0x7fb88bf24990> and <keras.engine.input_layer.InputLayer object at 0x7fb88b9074d0>).\n"
     ]
    },
    {
     "name": "stderr",
     "output_type": "stream",
     "text": [
      "WARNING:tensorflow:Inconsistent references when loading the checkpoint into this object graph. For example, in the saved checkpoint object, `model.layer.weight` and `model.layer_copy.weight` reference the same variable, while in the current object these are two different variables. The referenced variables are:(<official.projects.movinet.modeling.movinet_layers.ClassifierHead object at 0x7fb88bf24990> and <keras.engine.input_layer.InputLayer object at 0x7fb88b9074d0>).\n"
     ]
    },
    {
     "name": "stdout",
     "output_type": "stream",
     "text": [
      "WARNING:tensorflow:Inconsistent references when loading the checkpoint into this object graph. For example, in the saved checkpoint object, `model.layer.weight` and `model.layer_copy.weight` reference the same variable, while in the current object these are two different variables. The referenced variables are:(<official.projects.movinet.modeling.movinet_layers.Stem object at 0x7fb8840f1210> and <keras.engine.input_layer.InputLayer object at 0x7fb8858d7950>).\n"
     ]
    },
    {
     "name": "stderr",
     "output_type": "stream",
     "text": [
      "WARNING:tensorflow:Inconsistent references when loading the checkpoint into this object graph. For example, in the saved checkpoint object, `model.layer.weight` and `model.layer_copy.weight` reference the same variable, while in the current object these are two different variables. The referenced variables are:(<official.projects.movinet.modeling.movinet_layers.Stem object at 0x7fb8840f1210> and <keras.engine.input_layer.InputLayer object at 0x7fb8858d7950>).\n"
     ]
    },
    {
     "name": "stdout",
     "output_type": "stream",
     "text": [
      "WARNING:tensorflow:Inconsistent references when loading the checkpoint into this object graph. For example, in the saved checkpoint object, `model.layer.weight` and `model.layer_copy.weight` reference the same variable, while in the current object these are two different variables. The referenced variables are:(<official.projects.movinet.modeling.movinet_layers.MovinetBlock object at 0x7fb8840d4c90> and <keras.engine.input_layer.InputLayer object at 0x7fb8858d7d90>).\n"
     ]
    },
    {
     "name": "stderr",
     "output_type": "stream",
     "text": [
      "WARNING:tensorflow:Inconsistent references when loading the checkpoint into this object graph. For example, in the saved checkpoint object, `model.layer.weight` and `model.layer_copy.weight` reference the same variable, while in the current object these are two different variables. The referenced variables are:(<official.projects.movinet.modeling.movinet_layers.MovinetBlock object at 0x7fb8840d4c90> and <keras.engine.input_layer.InputLayer object at 0x7fb8858d7d90>).\n"
     ]
    },
    {
     "name": "stdout",
     "output_type": "stream",
     "text": [
      "WARNING:tensorflow:Inconsistent references when loading the checkpoint into this object graph. For example, in the saved checkpoint object, `model.layer.weight` and `model.layer_copy.weight` reference the same variable, while in the current object these are two different variables. The referenced variables are:(<official.projects.movinet.modeling.movinet_layers.MovinetBlock object at 0x7fb884004c10> and <keras.engine.input_layer.InputLayer object at 0x7fb8858e4d50>).\n"
     ]
    },
    {
     "name": "stderr",
     "output_type": "stream",
     "text": [
      "WARNING:tensorflow:Inconsistent references when loading the checkpoint into this object graph. For example, in the saved checkpoint object, `model.layer.weight` and `model.layer_copy.weight` reference the same variable, while in the current object these are two different variables. The referenced variables are:(<official.projects.movinet.modeling.movinet_layers.MovinetBlock object at 0x7fb884004c10> and <keras.engine.input_layer.InputLayer object at 0x7fb8858e4d50>).\n"
     ]
    },
    {
     "name": "stdout",
     "output_type": "stream",
     "text": [
      "WARNING:tensorflow:Inconsistent references when loading the checkpoint into this object graph. For example, in the saved checkpoint object, `model.layer.weight` and `model.layer_copy.weight` reference the same variable, while in the current object these are two different variables. The referenced variables are:(<official.projects.movinet.modeling.movinet_layers.MovinetBlock object at 0x7fb88ab7bed0> and <keras.engine.input_layer.InputLayer object at 0x7fb8858e4a10>).\n"
     ]
    },
    {
     "name": "stderr",
     "output_type": "stream",
     "text": [
      "WARNING:tensorflow:Inconsistent references when loading the checkpoint into this object graph. For example, in the saved checkpoint object, `model.layer.weight` and `model.layer_copy.weight` reference the same variable, while in the current object these are two different variables. The referenced variables are:(<official.projects.movinet.modeling.movinet_layers.MovinetBlock object at 0x7fb88ab7bed0> and <keras.engine.input_layer.InputLayer object at 0x7fb8858e4a10>).\n"
     ]
    },
    {
     "name": "stdout",
     "output_type": "stream",
     "text": [
      "WARNING:tensorflow:Inconsistent references when loading the checkpoint into this object graph. For example, in the saved checkpoint object, `model.layer.weight` and `model.layer_copy.weight` reference the same variable, while in the current object these are two different variables. The referenced variables are:(<official.projects.movinet.modeling.movinet_layers.MovinetBlock object at 0x7fb88554bd50> and <keras.engine.input_layer.InputLayer object at 0x7fb8858d7fd0>).\n"
     ]
    },
    {
     "name": "stderr",
     "output_type": "stream",
     "text": [
      "WARNING:tensorflow:Inconsistent references when loading the checkpoint into this object graph. For example, in the saved checkpoint object, `model.layer.weight` and `model.layer_copy.weight` reference the same variable, while in the current object these are two different variables. The referenced variables are:(<official.projects.movinet.modeling.movinet_layers.MovinetBlock object at 0x7fb88554bd50> and <keras.engine.input_layer.InputLayer object at 0x7fb8858d7fd0>).\n"
     ]
    },
    {
     "name": "stdout",
     "output_type": "stream",
     "text": [
      "WARNING:tensorflow:Inconsistent references when loading the checkpoint into this object graph. For example, in the saved checkpoint object, `model.layer.weight` and `model.layer_copy.weight` reference the same variable, while in the current object these are two different variables. The referenced variables are:(<official.projects.movinet.modeling.movinet_layers.MovinetBlock object at 0x7fb8866e6450> and <keras.engine.input_layer.InputLayer object at 0x7fb8858e04d0>).\n"
     ]
    },
    {
     "name": "stderr",
     "output_type": "stream",
     "text": [
      "WARNING:tensorflow:Inconsistent references when loading the checkpoint into this object graph. For example, in the saved checkpoint object, `model.layer.weight` and `model.layer_copy.weight` reference the same variable, while in the current object these are two different variables. The referenced variables are:(<official.projects.movinet.modeling.movinet_layers.MovinetBlock object at 0x7fb8866e6450> and <keras.engine.input_layer.InputLayer object at 0x7fb8858e04d0>).\n"
     ]
    },
    {
     "name": "stdout",
     "output_type": "stream",
     "text": [
      "WARNING:tensorflow:Inconsistent references when loading the checkpoint into this object graph. For example, in the saved checkpoint object, `model.layer.weight` and `model.layer_copy.weight` reference the same variable, while in the current object these are two different variables. The referenced variables are:(<official.projects.movinet.modeling.movinet_layers.MovinetBlock object at 0x7fb88ab69f90> and <keras.engine.input_layer.InputLayer object at 0x7fb8858e0910>).\n"
     ]
    },
    {
     "name": "stderr",
     "output_type": "stream",
     "text": [
      "WARNING:tensorflow:Inconsistent references when loading the checkpoint into this object graph. For example, in the saved checkpoint object, `model.layer.weight` and `model.layer_copy.weight` reference the same variable, while in the current object these are two different variables. The referenced variables are:(<official.projects.movinet.modeling.movinet_layers.MovinetBlock object at 0x7fb88ab69f90> and <keras.engine.input_layer.InputLayer object at 0x7fb8858e0910>).\n"
     ]
    },
    {
     "name": "stdout",
     "output_type": "stream",
     "text": [
      "WARNING:tensorflow:Inconsistent references when loading the checkpoint into this object graph. For example, in the saved checkpoint object, `model.layer.weight` and `model.layer_copy.weight` reference the same variable, while in the current object these are two different variables. The referenced variables are:(<official.projects.movinet.modeling.movinet_layers.MovinetBlock object at 0x7fb88b626e50> and <keras.engine.input_layer.InputLayer object at 0x7fb8858e4710>).\n"
     ]
    },
    {
     "name": "stderr",
     "output_type": "stream",
     "text": [
      "WARNING:tensorflow:Inconsistent references when loading the checkpoint into this object graph. For example, in the saved checkpoint object, `model.layer.weight` and `model.layer_copy.weight` reference the same variable, while in the current object these are two different variables. The referenced variables are:(<official.projects.movinet.modeling.movinet_layers.MovinetBlock object at 0x7fb88b626e50> and <keras.engine.input_layer.InputLayer object at 0x7fb8858e4710>).\n"
     ]
    },
    {
     "name": "stdout",
     "output_type": "stream",
     "text": [
      "WARNING:tensorflow:Inconsistent references when loading the checkpoint into this object graph. For example, in the saved checkpoint object, `model.layer.weight` and `model.layer_copy.weight` reference the same variable, while in the current object these are two different variables. The referenced variables are:(<official.projects.movinet.modeling.movinet_layers.MovinetBlock object at 0x7fb88a7d0bd0> and <keras.engine.input_layer.InputLayer object at 0x7fb8858e0fd0>).\n"
     ]
    },
    {
     "name": "stderr",
     "output_type": "stream",
     "text": [
      "WARNING:tensorflow:Inconsistent references when loading the checkpoint into this object graph. For example, in the saved checkpoint object, `model.layer.weight` and `model.layer_copy.weight` reference the same variable, while in the current object these are two different variables. The referenced variables are:(<official.projects.movinet.modeling.movinet_layers.MovinetBlock object at 0x7fb88a7d0bd0> and <keras.engine.input_layer.InputLayer object at 0x7fb8858e0fd0>).\n"
     ]
    },
    {
     "name": "stdout",
     "output_type": "stream",
     "text": [
      "WARNING:tensorflow:Inconsistent references when loading the checkpoint into this object graph. For example, in the saved checkpoint object, `model.layer.weight` and `model.layer_copy.weight` reference the same variable, while in the current object these are two different variables. The referenced variables are:(<official.projects.movinet.modeling.movinet_layers.MovinetBlock object at 0x7fb88bfaac50> and <keras.engine.input_layer.InputLayer object at 0x7fb8858eb950>).\n"
     ]
    },
    {
     "name": "stderr",
     "output_type": "stream",
     "text": [
      "WARNING:tensorflow:Inconsistent references when loading the checkpoint into this object graph. For example, in the saved checkpoint object, `model.layer.weight` and `model.layer_copy.weight` reference the same variable, while in the current object these are two different variables. The referenced variables are:(<official.projects.movinet.modeling.movinet_layers.MovinetBlock object at 0x7fb88bfaac50> and <keras.engine.input_layer.InputLayer object at 0x7fb8858eb950>).\n"
     ]
    },
    {
     "name": "stdout",
     "output_type": "stream",
     "text": [
      "WARNING:tensorflow:Inconsistent references when loading the checkpoint into this object graph. For example, in the saved checkpoint object, `model.layer.weight` and `model.layer_copy.weight` reference the same variable, while in the current object these are two different variables. The referenced variables are:(<official.projects.movinet.modeling.movinet_layers.MovinetBlock object at 0x7fb889e9bd50> and <keras.engine.input_layer.InputLayer object at 0x7fb8858e0d90>).\n"
     ]
    },
    {
     "name": "stderr",
     "output_type": "stream",
     "text": [
      "WARNING:tensorflow:Inconsistent references when loading the checkpoint into this object graph. For example, in the saved checkpoint object, `model.layer.weight` and `model.layer_copy.weight` reference the same variable, while in the current object these are two different variables. The referenced variables are:(<official.projects.movinet.modeling.movinet_layers.MovinetBlock object at 0x7fb889e9bd50> and <keras.engine.input_layer.InputLayer object at 0x7fb8858e0d90>).\n"
     ]
    },
    {
     "name": "stdout",
     "output_type": "stream",
     "text": [
      "WARNING:tensorflow:Inconsistent references when loading the checkpoint into this object graph. For example, in the saved checkpoint object, `model.layer.weight` and `model.layer_copy.weight` reference the same variable, while in the current object these are two different variables. The referenced variables are:(<official.projects.movinet.modeling.movinet_layers.MovinetBlock object at 0x7fb88af44090> and <keras.engine.input_layer.InputLayer object at 0x7fb8858eb7d0>).\n"
     ]
    },
    {
     "name": "stderr",
     "output_type": "stream",
     "text": [
      "WARNING:tensorflow:Inconsistent references when loading the checkpoint into this object graph. For example, in the saved checkpoint object, `model.layer.weight` and `model.layer_copy.weight` reference the same variable, while in the current object these are two different variables. The referenced variables are:(<official.projects.movinet.modeling.movinet_layers.MovinetBlock object at 0x7fb88af44090> and <keras.engine.input_layer.InputLayer object at 0x7fb8858eb7d0>).\n"
     ]
    },
    {
     "name": "stdout",
     "output_type": "stream",
     "text": [
      "WARNING:tensorflow:Inconsistent references when loading the checkpoint into this object graph. For example, in the saved checkpoint object, `model.layer.weight` and `model.layer_copy.weight` reference the same variable, while in the current object these are two different variables. The referenced variables are:(<official.projects.movinet.modeling.movinet_layers.MovinetBlock object at 0x7fb8840d4610> and <keras.engine.input_layer.InputLayer object at 0x7fb8858ee490>).\n"
     ]
    },
    {
     "name": "stderr",
     "output_type": "stream",
     "text": [
      "WARNING:tensorflow:Inconsistent references when loading the checkpoint into this object graph. For example, in the saved checkpoint object, `model.layer.weight` and `model.layer_copy.weight` reference the same variable, while in the current object these are two different variables. The referenced variables are:(<official.projects.movinet.modeling.movinet_layers.MovinetBlock object at 0x7fb8840d4610> and <keras.engine.input_layer.InputLayer object at 0x7fb8858ee490>).\n"
     ]
    },
    {
     "name": "stdout",
     "output_type": "stream",
     "text": [
      "WARNING:tensorflow:Inconsistent references when loading the checkpoint into this object graph. For example, in the saved checkpoint object, `model.layer.weight` and `model.layer_copy.weight` reference the same variable, while in the current object these are two different variables. The referenced variables are:(<official.projects.movinet.modeling.movinet_layers.MovinetBlock object at 0x7fb885232e50> and <keras.engine.input_layer.InputLayer object at 0x7fb8858ebe90>).\n"
     ]
    },
    {
     "name": "stderr",
     "output_type": "stream",
     "text": [
      "WARNING:tensorflow:Inconsistent references when loading the checkpoint into this object graph. For example, in the saved checkpoint object, `model.layer.weight` and `model.layer_copy.weight` reference the same variable, while in the current object these are two different variables. The referenced variables are:(<official.projects.movinet.modeling.movinet_layers.MovinetBlock object at 0x7fb885232e50> and <keras.engine.input_layer.InputLayer object at 0x7fb8858ebe90>).\n"
     ]
    },
    {
     "name": "stdout",
     "output_type": "stream",
     "text": [
      "WARNING:tensorflow:Inconsistent references when loading the checkpoint into this object graph. For example, in the saved checkpoint object, `model.layer.weight` and `model.layer_copy.weight` reference the same variable, while in the current object these are two different variables. The referenced variables are:(<official.projects.movinet.modeling.movinet_layers.MovinetBlock object at 0x7fb885767dd0> and <keras.engine.input_layer.InputLayer object at 0x7fb8858eed90>).\n"
     ]
    },
    {
     "name": "stderr",
     "output_type": "stream",
     "text": [
      "WARNING:tensorflow:Inconsistent references when loading the checkpoint into this object graph. For example, in the saved checkpoint object, `model.layer.weight` and `model.layer_copy.weight` reference the same variable, while in the current object these are two different variables. The referenced variables are:(<official.projects.movinet.modeling.movinet_layers.MovinetBlock object at 0x7fb885767dd0> and <keras.engine.input_layer.InputLayer object at 0x7fb8858eed90>).\n"
     ]
    },
    {
     "name": "stdout",
     "output_type": "stream",
     "text": [
      "WARNING:tensorflow:Inconsistent references when loading the checkpoint into this object graph. For example, in the saved checkpoint object, `model.layer.weight` and `model.layer_copy.weight` reference the same variable, while in the current object these are two different variables. The referenced variables are:(<official.projects.movinet.modeling.movinet_layers.MovinetBlock object at 0x7fb88689ce10> and <keras.engine.input_layer.InputLayer object at 0x7fb8858eefd0>).\n"
     ]
    },
    {
     "name": "stderr",
     "output_type": "stream",
     "text": [
      "WARNING:tensorflow:Inconsistent references when loading the checkpoint into this object graph. For example, in the saved checkpoint object, `model.layer.weight` and `model.layer_copy.weight` reference the same variable, while in the current object these are two different variables. The referenced variables are:(<official.projects.movinet.modeling.movinet_layers.MovinetBlock object at 0x7fb88689ce10> and <keras.engine.input_layer.InputLayer object at 0x7fb8858eefd0>).\n"
     ]
    },
    {
     "name": "stdout",
     "output_type": "stream",
     "text": [
      "WARNING:tensorflow:Inconsistent references when loading the checkpoint into this object graph. For example, in the saved checkpoint object, `model.layer.weight` and `model.layer_copy.weight` reference the same variable, while in the current object these are two different variables. The referenced variables are:(<official.projects.movinet.modeling.movinet_layers.Head object at 0x7fb889e9bfd0> and <keras.engine.input_layer.InputLayer object at 0x7fb8858ee910>).\n"
     ]
    },
    {
     "name": "stderr",
     "output_type": "stream",
     "text": [
      "WARNING:tensorflow:Inconsistent references when loading the checkpoint into this object graph. For example, in the saved checkpoint object, `model.layer.weight` and `model.layer_copy.weight` reference the same variable, while in the current object these are two different variables. The referenced variables are:(<official.projects.movinet.modeling.movinet_layers.Head object at 0x7fb889e9bfd0> and <keras.engine.input_layer.InputLayer object at 0x7fb8858ee910>).\n"
     ]
    },
    {
     "name": "stdout",
     "output_type": "stream",
     "text": [
      "WARNING:tensorflow:Skipping full serialization of Keras layer <keras.layers.regularization.dropout.Dropout object at 0x7fb88bf0a690>, because it is not built.\n"
     ]
    },
    {
     "name": "stderr",
     "output_type": "stream",
     "text": [
      "WARNING:tensorflow:Skipping full serialization of Keras layer <keras.layers.regularization.dropout.Dropout object at 0x7fb88bf0a690>, because it is not built.\n"
     ]
    },
    {
     "name": "stdout",
     "output_type": "stream",
     "text": [
      "WARNING:tensorflow:Skipping full serialization of Keras layer <official.vision.modeling.layers.nn_layers.TemporalSoftmaxPool object at 0x7fb885307150>, because it is not built.\n"
     ]
    },
    {
     "name": "stderr",
     "output_type": "stream",
     "text": [
      "WARNING:tensorflow:Skipping full serialization of Keras layer <official.vision.modeling.layers.nn_layers.TemporalSoftmaxPool object at 0x7fb885307150>, because it is not built.\n",
      "WARNING:absl:Found untraced functions such as head_layer_call_fn, head_layer_call_and_return_conditional_losses, classifier_layer_call_fn, classifier_layer_call_and_return_conditional_losses, squeeze3d_layer_call_fn while saving (showing 5 of 978). These functions will not be directly callable after loading.\n"
     ]
    },
    {
     "name": "stdout",
     "output_type": "stream",
     "text": [
      "INFO:tensorflow:Assets written to: model/assets\n"
     ]
    },
    {
     "name": "stderr",
     "output_type": "stream",
     "text": [
      "INFO:tensorflow:Assets written to: model/assets\n"
     ]
    }
   ],
   "source": [
    "# Export to saved model\n",
    "saved_model_dir = 'model'\n",
    "tflite_filename = 'model.tflite'\n",
    "input_shape = [1, 1, 172, 172, 3]\n",
    "batch_size, num_frames, image_size, = input_shape[:3]\n",
    "\n",
    "tf.keras.backend.clear_session()\n",
    "\n",
    "# Create the model\n",
    "input_specs = tf.keras.layers.InputSpec(shape=input_shape)\n",
    "backbone = movinet.Movinet(\n",
    "    model_id='a0',\n",
    "    causal=True,\n",
    "    conv_type='2plus1d',\n",
    "    se_type='2plus3d',\n",
    "    input_specs=input_specs,\n",
    "    activation='hard_swish',\n",
    "    gating_activation='hard_sigmoid',\n",
    "    use_sync_bn=False,\n",
    "    use_external_states=True)\n",
    "model = movinet_model.MovinetClassifier(\n",
    "    backbone=backbone,\n",
    "    activation='hard_swish',\n",
    "    num_classes=600,\n",
    "    output_states=True,\n",
    "    input_specs=dict(image=input_specs))\n",
    "model.build([1, 1, 1, 1, 3])\n",
    "\n",
    "# Extract pretrained weights\n",
    "!wget https://storage.googleapis.com/tf_model_garden/vision/movinet/movinet_a0_stream.tar.gz -O movinet_a0_stream.tar.gz -q\n",
    "!tar -xvf movinet_a0_stream.tar.gz\n",
    "\n",
    "checkpoint_dir = 'movinet_a0_stream'\n",
    "checkpoint_path = tf.train.latest_checkpoint(checkpoint_dir)\n",
    "\n",
    "# Convert to saved model\n",
    "export_saved_model.export_saved_model(\n",
    "    model=model,\n",
    "    input_shape=input_shape,\n",
    "    export_path=saved_model_dir,\n",
    "    causal=True,\n",
    "    bundle_input_init_states_fn=False,\n",
    "    checkpoint_path=checkpoint_path)"
   ]
  },
  {
   "cell_type": "code",
   "execution_count": null,
   "metadata": {
    "id": "gPg_6eMC8IwF"
   },
   "outputs": [],
   "source": [
    "# Convert to TF Lite\n",
    "converter = tf.lite.TFLiteConverter.from_saved_model(saved_model_dir)\n",
    "tflite_model = converter.convert()\n",
    "\n",
    "with open(tflite_filename, 'wb') as f:\n",
    "  f.write(tflite_model)\n",
    "\n",
    "# Create the interpreter and signature runner\n",
    "interpreter = tf.lite.Interpreter(model_path=tflite_filename)\n",
    "runner = interpreter.get_signature_runner()\n",
    "\n",
    "init_states = {\n",
    "    name: tf.zeros(x['shape'], dtype=x['dtype'])\n",
    "    for name, x in runner.get_input_details().items()\n",
    "}\n",
    "del init_states['image']"
   ]
  },
  {
   "cell_type": "code",
   "execution_count": null,
   "metadata": {
    "colab": {
     "base_uri": "https://localhost:8080/"
    },
    "id": "-TQ-7oSJIlTA",
    "outputId": "12477a1e-fb3b-42c5-d31e-4560bdda4064"
   },
   "outputs": [
    {
     "name": "stdout",
     "output_type": "stream",
     "text": [
      "0.4298887329998706\n",
      "\n",
      "jumping jacks 0.97912836\n",
      "jogging 0.0019550628\n",
      "riding unicycle 0.0017428999\n",
      "passing soccer ball 0.0016952099\n",
      "stretching arm 0.001445815\n"
     ]
    }
   ],
   "source": [
    "# Insert your video clip here\n",
    "video = load_gif('jumpingjack.gif', image_size=(172, 172))\n",
    "clips = tf.split(video[tf.newaxis], video.shape[0], axis=1)\n",
    "\n",
    "# To run on a video, pass in one frame at a time\n",
    "states = init_states\n",
    "for clip in clips:\n",
    "  # Input shape: [1, 1, 172, 172, 3]\n",
    "  outputs = runner(**states, image=clip)\n",
    "  logits = outputs.pop('logits')[0]\n",
    "  states = outputs\n",
    "\n",
    "probs = tf.nn.softmax(logits)\n",
    "top_k = get_top_k(probs)\n",
    "print()\n",
    "for label, prob in top_k:\n",
    "  print(label, prob)"
   ]
  },
  {
   "cell_type": "markdown",
   "metadata": {
    "id": "_s-7bEoa3f8g"
   },
   "source": [
    "## Fine-Tune a Base Model with the TensorFlow Model Garden\n",
    "\n",
    "We will Fine-tune MoViNet-A0-Base on [UCF-101](https://www.crcv.ucf.edu/research/data-sets/ucf101/).\n",
    "\n",
    "The following code will:\n",
    "\n",
    "- Load the UCF-101 dataset with [TensorFlow Datasets](https://www.tensorflow.org/datasets/catalog/ucf101).\n",
    "- Create a simple [`tf.data.Dataset`](https://www.tensorflow.org/api_docs/python/tf/data/Dataset) pipeline for training and evaluation.\n",
    "- Display some example videos from the dataset.\n",
    "- Build a MoViNet model and load pretrained weights.\n",
    "- Fine-tune the final classifier layers on UCF-101 and evaluate accuracy on the validation set."
   ]
  },
  {
   "cell_type": "markdown",
   "metadata": {
    "id": "o7unW4WVr580"
   },
   "source": [
    "### Load the UCF-101 Dataset with TensorFlow Datasets\n",
    "\n",
    "Calling `download_and_prepare()` will automatically download the dataset. This step may take up to 1 hour depending on the download and extraction speed. After downloading, the next cell will output information about the dataset."
   ]
  },
  {
   "cell_type": "code",
   "execution_count": null,
   "metadata": {
    "id": "2IHLbPAfrs5P"
   },
   "outputs": [],
   "source": [
    "# Run imports\n",
    "import tensorflow_datasets as tfds\n",
    "\n",
    "from official.vision.configs import video_classification\n",
    "from official.projects.movinet.configs import movinet as movinet_configs\n",
    "from official.projects.movinet.modeling import movinet\n",
    "from official.projects.movinet.modeling import movinet_layers\n",
    "from official.projects.movinet.modeling import movinet_model"
   ]
  },
  {
   "cell_type": "code",
   "execution_count": null,
   "metadata": {
    "id": "FxM1vNYp_YAM"
   },
   "outputs": [],
   "source": [
    "dataset_name = 'ucf101'\n",
    "\n",
    "builder = tfds.builder(dataset_name)\n",
    "\n",
    "config = tfds.download.DownloadConfig(verify_ssl=False)\n",
    "builder.download_and_prepare(download_config=config)"
   ]
  },
  {
   "cell_type": "code",
   "execution_count": null,
   "metadata": {
    "id": "boQHbcfDhXpJ",
    "outputId": "eabc3307-d6bf-4f29-cc5a-c8dc6360701b"
   },
   "outputs": [
    {
     "name": "stdout",
     "output_type": "stream",
     "text": [
      "Number of classes: 101\n",
      "Number of examples for train: 9537\n",
      "Number of examples for test: 3783\n",
      "\n"
     ]
    },
    {
     "data": {
      "text/plain": [
       "tfds.core.DatasetInfo(\n",
       "    name='ucf101',\n",
       "    full_name='ucf101/ucf101_1_256/2.0.0',\n",
       "    description=\"\"\"\n",
       "    A 101-label video classification dataset.\n",
       "    \"\"\",\n",
       "    config_description=\"\"\"\n",
       "    256x256 UCF with the first action recognition split.\n",
       "    \"\"\",\n",
       "    homepage='https://www.crcv.ucf.edu/data-sets/ucf101/',\n",
       "    data_path='/readahead/128M/placer/prod/home/tensorflow-datasets-cns-storage-owner/datasets/ucf101/ucf101_1_256/2.0.0',\n",
       "    download_size=6.48 GiB,\n",
       "    dataset_size=Unknown size,\n",
       "    features=FeaturesDict({\n",
       "        'label': ClassLabel(shape=(), dtype=tf.int64, num_classes=101),\n",
       "        'video': Video(Image(shape=(256, 256, 3), dtype=tf.uint8)),\n",
       "    }),\n",
       "    supervised_keys=None,\n",
       "    splits={\n",
       "        'test': <SplitInfo num_examples=3783, num_shards=32>,\n",
       "        'train': <SplitInfo num_examples=9537, num_shards=64>,\n",
       "    },\n",
       "    citation=\"\"\"@article{DBLP:journals/corr/abs-1212-0402,\n",
       "      author    = {Khurram Soomro and\n",
       "                   Amir Roshan Zamir and\n",
       "                   Mubarak Shah},\n",
       "      title     = {{UCF101:} {A} Dataset of 101 Human Actions Classes From Videos in\n",
       "                   The Wild},\n",
       "      journal   = {CoRR},\n",
       "      volume    = {abs/1212.0402},\n",
       "      year      = {2012},\n",
       "      url       = {http://arxiv.org/abs/1212.0402},\n",
       "      archivePrefix = {arXiv},\n",
       "      eprint    = {1212.0402},\n",
       "      timestamp = {Mon, 13 Aug 2018 16:47:45 +0200},\n",
       "      biburl    = {https://dblp.org/rec/bib/journals/corr/abs-1212-0402},\n",
       "      bibsource = {dblp computer science bibliography, https://dblp.org}\n",
       "    }\"\"\",\n",
       ")"
      ]
     },
     "execution_count": null,
     "metadata": {
      "tags": []
     },
     "output_type": "execute_result"
    }
   ],
   "source": [
    "num_classes = builder.info.features['label'].num_classes\n",
    "num_examples = {\n",
    "    name: split.num_examples\n",
    "    for name, split in builder.info.splits.items()\n",
    "}\n",
    "\n",
    "print('Number of classes:', num_classes)\n",
    "print('Number of examples for train:', num_examples['train'])\n",
    "print('Number of examples for test:', num_examples['test'])\n",
    "print()\n",
    "\n",
    "builder.info"
   ]
  },
  {
   "cell_type": "code",
   "execution_count": null,
   "metadata": {
    "id": "9cO_BCu9le3r"
   },
   "outputs": [],
   "source": [
    "# Build the training and evaluation datasets.\n",
    "\n",
    "batch_size = 8\n",
    "num_frames = 8\n",
    "frame_stride = 10\n",
    "resolution = 172\n",
    "\n",
    "def format_features(features):\n",
    "  video = features['video']\n",
    "  video = video[:, ::frame_stride]\n",
    "  video = video[:, :num_frames]\n",
    "\n",
    "  video = tf.reshape(video, [-1, video.shape[2], video.shape[3], 3])\n",
    "  video = tf.image.resize(video, (resolution, resolution))\n",
    "  video = tf.reshape(video, [-1, num_frames, resolution, resolution, 3])\n",
    "  video = tf.cast(video, tf.float32) / 255.\n",
    "\n",
    "  label = tf.one_hot(features['label'], num_classes)\n",
    "  return (video, label)\n",
    "\n",
    "train_dataset = builder.as_dataset(\n",
    "    split='train',\n",
    "    batch_size=batch_size,\n",
    "    shuffle_files=True)\n",
    "train_dataset = train_dataset.map(\n",
    "    format_features,\n",
    "    num_parallel_calls=tf.data.AUTOTUNE)\n",
    "train_dataset = train_dataset.repeat()\n",
    "train_dataset = train_dataset.prefetch(2)\n",
    "\n",
    "test_dataset = builder.as_dataset(\n",
    "    split='test',\n",
    "    batch_size=batch_size)\n",
    "test_dataset = test_dataset.map(\n",
    "    format_features,\n",
    "    num_parallel_calls=tf.data.AUTOTUNE,\n",
    "    deterministic=True)\n",
    "test_dataset = test_dataset.prefetch(2)"
   ]
  },
  {
   "cell_type": "markdown",
   "metadata": {
    "id": "rToX7_Ymgh57"
   },
   "source": [
    "Display some example videos from the dataset."
   ]
  },
  {
   "cell_type": "code",
   "execution_count": null,
   "metadata": {
    "id": "KG8Z7rUj06of"
   },
   "outputs": [],
   "source": [
    "videos, labels = next(iter(train_dataset))\n",
    "media.show_videos(videos.numpy(), codec='gif', fps=5)"
   ]
  },
  {
   "cell_type": "markdown",
   "metadata": {
    "id": "R3RHeuHdsd_3"
   },
   "source": [
    "### Build MoViNet-A0-Base and Load Pretrained Weights\n",
    "\n",
    "Here we create a MoViNet model using the open source code provided in [official/projects/movinet](https://github.com/tensorflow/models/tree/master/official/projects/movinet) and load the pretrained weights. Here we freeze the all layers except the final classifier head to speed up fine-tuning."
   ]
  },
  {
   "cell_type": "code",
   "execution_count": null,
   "metadata": {
    "id": "JpfxpeGSsbzJ"
   },
   "outputs": [],
   "source": [
    "model_id = 'a0'\n",
    "\n",
    "tf.keras.backend.clear_session()\n",
    "\n",
    "backbone = movinet.Movinet(model_id=model_id)\n",
    "model = movinet_model.MovinetClassifier(backbone=backbone, num_classes=600)\n",
    "model.build([1, 1, 1, 1, 3])\n",
    "\n",
    "# Load pretrained weights\n",
    "!wget https://storage.googleapis.com/tf_model_garden/vision/movinet/movinet_a0_base.tar.gz -O movinet_a0_base.tar.gz -q\n",
    "!tar -xvf movinet_a0_base.tar.gz\n",
    "\n",
    "checkpoint_dir = 'movinet_a0_base'\n",
    "checkpoint_path = tf.train.latest_checkpoint(checkpoint_dir)\n",
    "checkpoint = tf.train.Checkpoint(model=model)\n",
    "status = checkpoint.restore(checkpoint_path)\n",
    "status.assert_existing_objects_matched()\n",
    "\n",
    "def build_classifier(backbone, num_classes, freeze_backbone=False):\n",
    "  \"\"\"Builds a classifier on top of a backbone model.\"\"\"\n",
    "  model = movinet_model.MovinetClassifier(\n",
    "      backbone=backbone,\n",
    "      num_classes=num_classes)\n",
    "  model.build([batch_size, num_frames, resolution, resolution, 3])\n",
    "\n",
    "  if freeze_backbone:\n",
    "    for layer in model.layers[:-1]:\n",
    "      layer.trainable = False\n",
    "    model.layers[-1].trainable = True\n",
    "\n",
    "  return model\n",
    "\n",
    "# Wrap the backbone with a new classifier to create a new classifier head\n",
    "# with num_classes outputs (101 classes for UCF101).\n",
    "# Freeze all layers except for the final classifier head.\n",
    "model = build_classifier(backbone, num_classes, freeze_backbone=True)"
   ]
  },
  {
   "cell_type": "markdown",
   "metadata": {
    "id": "ucntdu2xqgXB"
   },
   "source": [
    "Configure fine-tuning with training/evaluation steps, loss object, metrics, learning rate, optimizer, and callbacks.\n",
    "\n",
    "Here we use 3 epochs. Training for more epochs should improve accuracy."
   ]
  },
  {
   "cell_type": "code",
   "execution_count": null,
   "metadata": {
    "id": "WUYTw48BouTu"
   },
   "outputs": [],
   "source": [
    "num_epochs = 3\n",
    "\n",
    "train_steps = num_examples['train'] // batch_size\n",
    "total_train_steps = train_steps * num_epochs\n",
    "test_steps = num_examples['test'] // batch_size\n",
    "\n",
    "loss_obj = tf.keras.losses.CategoricalCrossentropy(\n",
    "    from_logits=True,\n",
    "    label_smoothing=0.1)\n",
    "\n",
    "metrics = [\n",
    "    tf.keras.metrics.TopKCategoricalAccuracy(\n",
    "        k=1, name='top_1', dtype=tf.float32),\n",
    "    tf.keras.metrics.TopKCategoricalAccuracy(\n",
    "        k=5, name='top_5', dtype=tf.float32),\n",
    "]\n",
    "\n",
    "initial_learning_rate = 0.01\n",
    "learning_rate = tf.keras.optimizers.schedules.CosineDecay(\n",
    "    initial_learning_rate, decay_steps=total_train_steps,\n",
    ")\n",
    "optimizer = tf.keras.optimizers.RMSprop(\n",
    "    learning_rate, rho=0.9, momentum=0.9, epsilon=1.0, clipnorm=1.0)\n",
    "\n",
    "model.compile(loss=loss_obj, optimizer=optimizer, metrics=metrics)\n",
    "\n",
    "callbacks = [\n",
    "    tf.keras.callbacks.TensorBoard(),\n",
    "]"
   ]
  },
  {
   "cell_type": "markdown",
   "metadata": {
    "id": "0IyAOOlcpHna"
   },
   "source": [
    "Run the fine-tuning with Keras compile/fit. After fine-tuning the model, we should be able to achieve >85% accuracy on the test set."
   ]
  },
  {
   "cell_type": "code",
   "execution_count": null,
   "metadata": {
    "id": "Zecc_K3lga8I",
    "outputId": "e4c5c61e-aa08-47db-c04c-42dea3efb545"
   },
   "outputs": [
    {
     "name": "stdout",
     "output_type": "stream",
     "text": [
      "Epoch 1/3\n",
      "1192/1192 [==============================] - 551s 451ms/step - loss: 2.5050 - top_1: 0.6692 - top_5: 0.8753 - val_loss: 1.6310 - val_top_1: 0.8109 - val_top_5: 0.9701\n",
      "Epoch 2/3\n",
      "1192/1192 [==============================] - 533s 447ms/step - loss: 1.3336 - top_1: 0.9024 - top_5: 0.9906 - val_loss: 1.4576 - val_top_1: 0.8451 - val_top_5: 0.9740\n",
      "Epoch 3/3\n",
      "1192/1192 [==============================] - 531s 446ms/step - loss: 1.2298 - top_1: 0.9329 - top_5: 0.9943 - val_loss: 1.4351 - val_top_1: 0.8514 - val_top_5: 0.9762\n"
     ]
    }
   ],
   "source": [
    "results = model.fit(\n",
    "    train_dataset,\n",
    "    validation_data=test_dataset,\n",
    "    epochs=num_epochs,\n",
    "    steps_per_epoch=train_steps,\n",
    "    validation_steps=test_steps,\n",
    "    callbacks=callbacks,\n",
    "    validation_freq=1,\n",
    "    verbose=1)"
   ]
  },
  {
   "cell_type": "markdown",
   "metadata": {
    "id": "XuH8XflmpU9d"
   },
   "source": [
    "We can also view the training and evaluation progress in TensorBoard."
   ]
  },
  {
   "cell_type": "code",
   "execution_count": null,
   "metadata": {
    "colab": {
     "base_uri": "https://localhost:8080/",
     "height": 523
    },
    "id": "9fZhzhRJRd2J",
    "outputId": "11f4b487-c1d4-4b92-c534-c3332dbb224f"
   },
   "outputs": [
    {
     "data": {
      "text/plain": [
       "ERROR: Failed to launch TensorBoard (exited with 1).\n",
       "Contents of stderr:\n",
       "2022-05-07 16:11:32.629026: E tensorflow/stream_executor/cuda/cuda_driver.cc:271] failed call to cuInit: CUDA_ERROR_NO_DEVICE: no CUDA-capable device is detected\n",
       "\n",
       "NOTE: Using experimental fast data loading logic. To disable, pass\n",
       "    \"--load_fast=false\" and report issues on GitHub. More details:\n",
       "    https://github.com/tensorflow/tensorboard/issues/4784\n",
       "\n",
       "Traceback (most recent call last):\n",
       "  File \"/usr/local/bin/tensorboard\", line 8, in <module>\n",
       "    sys.exit(run_main())\n",
       "  File \"/usr/local/lib/python3.7/dist-packages/tensorboard/main.py\", line 46, in run_main\n",
       "    app.run(tensorboard.main, flags_parser=tensorboard.configure)\n",
       "  File \"/usr/local/lib/python3.7/dist-packages/absl/app.py\", line 312, in run\n",
       "    _run_main(main, args)\n",
       "  File \"/usr/local/lib/python3.7/dist-packages/absl/app.py\", line 258, in _run_main\n",
       "    sys.exit(main(argv))\n",
       "  File \"/usr/local/lib/python3.7/dist-packages/tensorboard/program.py\", line 276, in main\n",
       "    return runner(self.flags) or 0\n",
       "  File \"/usr/local/lib/python3.7/dist-packages/tensorboard/program.py\", line 292, in _run_serve_subcommand\n",
       "    server = self._make_server()\n",
       "  File \"/usr/local/lib/python3.7/dist-packages/tensorboard/program.py\", line 472, in _make_server\n",
       "    deprecated_multiplexer,\n",
       "  File \"/usr/local/lib/python3.7/dist-packages/tensorboard/backend/application.py\", line 145, in TensorBoardWSGIApp\n",
       "    experimental_middlewares,\n",
       "  File \"/usr/local/lib/python3.7/dist-packages/tensorboard/backend/application.py\", line 253, in __init__\n",
       "    \"Duplicate plugins for name %s\" % plugin.plugin_name\n",
       "ValueError: Duplicate plugins for name projector"
      ]
     },
     "metadata": {},
     "output_type": "display_data"
    }
   ],
   "source": [
    "%reload_ext tensorboard\n",
    "%tensorboard --logdir logs --port 0"
   ]
  },
  {
   "cell_type": "code",
   "execution_count": null,
   "metadata": {
    "id": "KfJQ4wV3SLp2"
   },
   "outputs": [],
   "source": []
  }
 ],
 "metadata": {
  "colab": {
   "collapsed_sections": [],
   "name": "Copy of movinet_tutorial.ipynb",
   "provenance": []
  },
  "kernelspec": {
   "display_name": "Python 3 (ipykernel)",
   "language": "python",
   "name": "python3"
  },
  "language_info": {
   "codemirror_mode": {
    "name": "ipython",
    "version": 3
   },
   "file_extension": ".py",
   "mimetype": "text/x-python",
   "name": "python",
   "nbconvert_exporter": "python",
   "pygments_lexer": "ipython3",
   "version": "3.10.4"
  }
 },
 "nbformat": 4,
 "nbformat_minor": 1
}
